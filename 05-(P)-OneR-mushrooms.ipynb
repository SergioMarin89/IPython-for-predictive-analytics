{
 "cells": [
  {
   "cell_type": "markdown",
   "metadata": {},
   "source": [
    "Identificación de hongos venenosos\n",
    "===\n",
    "\n",
    "**Juan David Velásquez Henao**  \n",
    "jdvelasq@unal.edu.co   \n",
    "Universidad Nacional de Colombia, Sede Medellín  \n",
    "Facultad de Minas  \n",
    "Medellín, Colombia\n",
    "\n",
    "---\n",
    "\n",
    "Haga click [aquí](https://github.com/jdvelasq/predictive-analytics/blob/master/07-OneR-R-mushrooms.ipynb) para acceder a la última versión online.\n",
    "\n",
    "Haga click [aquí](http://nbviewer.jupyter.org/github/jdvelasq/predictive-analytics/blob/master/07-OneR-R-mushrooms.ipynb) para ver la última versión online en `nbviewer`. \n",
    "\n",
    "---\n",
    "[Licencia](https://github.com/jdvelasq/predictive-analytics/blob/master/LICENSE)  \n",
    "[Readme](https://github.com/jdvelasq/predictive-analytics/blob/master/readme.md)"
   ]
  },
  {
   "cell_type": "markdown",
   "metadata": {},
   "source": [
    "# Definición del problema real"
   ]
  },
  {
   "cell_type": "markdown",
   "metadata": {},
   "source": [
    "A partir de las características físicas de un hongo desconocido se desea determinar si este es definitivamente comestible, definitivamente venenoso o de comestibilidad desconocida y no recomendada."
   ]
  },
  {
   "cell_type": "markdown",
   "metadata": {},
   "source": [
    "# Definición del problema en términos de los datos"
   ]
  },
  {
   "cell_type": "markdown",
   "metadata": {},
   "source": [
    "Se tiene una muestra de 8124 instancias de hongos provenientes de 23 especies de la familia Agaricus y Lepiota. Por el tipo de problema en cuestión, los hongos de comestibilidad desconocida fueron asignados a la clase de hongos definitivamente venenosos. \n",
    "\n",
    "La información contenida en la muestra es la siguiente:\n",
    "\n",
    "1. cap-shape: bell=b,conical=c,convex=x,flat=f, knobbed=k,sunken=s \n",
    "2. cap-surface: fibrous=f,grooves=g,scaly=y,smooth=s \n",
    "3. cap-color: brown=n,buff=b,cinnamon=c,gray=g,green=r, pink=p,purple=u,red=e,white=w,yellow=y \n",
    "4. bruises?: bruises=t,no=f \n",
    "5. odor: almond=a,anise=l,creosote=c,fishy=y,foul=f, musty=m,none=n,pungent=p,spicy=s \n",
    "6. gill-attachment: attached=a,descending=d,free=f,notched=n \n",
    "7. gill-spacing: close=c,crowded=w,distant=d \n",
    "8. gill-size: broad=b,narrow=n \n",
    "9. gill-color: black=k,brown=n,buff=b,chocolate=h,gray=g, green=r,orange=o,pink=p,purple=u,red=e, white=w,yellow=y \n",
    "10. stalk-shape: enlarging=e,tapering=t \n",
    "11. stalk-root: bulbous=b,club=c,cup=u,equal=e, rhizomorphs=z,rooted=r,missing=? \n",
    "12. stalk-surface-above-ring: fibrous=f,scaly=y,silky=k,smooth=s \n",
    "13. stalk-surface-below-ring: fibrous=f,scaly=y,silky=k,smooth=s \n",
    "14. stalk-color-above-ring: brown=n,buff=b,cinnamon=c,gray=g,orange=o, pink=p,red=e,white=w,yellow=y \n",
    "15. stalk-color-below-ring: brown=n,buff=b,cinnamon=c,gray=g,orange=o, pink=p,red=e,white=w,yellow=y \n",
    "16. veil-type: partial=p,universal=u \n",
    "17. veil-color: brown=n,orange=o,white=w,yellow=y \n",
    "18. ring-number: none=n,one=o,two=t \n",
    "19. ring-type: cobwebby=c,evanescent=e,flaring=f,large=l, none=n,pendant=p,sheathing=s,zone=z \n",
    "20. spore-print-color: black=k,brown=n,buff=b,chocolate=h,green=r, orange=o,purple=u,white=w,yellow=y \n",
    "21. population: abundant=a,clustered=c,numerous=n, scattered=s,several=v,solitary=y \n",
    "22. habitat: grasses=g,leaves=l,meadows=m,paths=p, urban=u,waste=w,woods=d\n",
    "\n",
    "Fuente de los datos: https://archive.ics.uci.edu/ml/datasets/mushroom"
   ]
  },
  {
   "cell_type": "markdown",
   "metadata": {},
   "source": [
    "# Exploración"
   ]
  },
  {
   "cell_type": "code",
   "execution_count": null,
   "metadata": {},
   "outputs": [
    {
     "name": "stdout",
     "output_type": "stream",
     "text": [
      "'data.frame':\t8124 obs. of  23 variables:\n",
      " $ type                    : Factor w/ 2 levels \"e\",\"p\": 2 1 1 2 1 1 1 1 2 1 ...\n",
      " $ cap_shape               : Factor w/ 6 levels \"b\",\"c\",\"f\",\"k\",..: 6 6 1 6 6 6 1 1 6 1 ...\n",
      " $ cap_surface             : Factor w/ 4 levels \"f\",\"g\",\"s\",\"y\": 3 3 3 4 3 4 3 4 4 3 ...\n",
      " $ cap_color               : Factor w/ 10 levels \"b\",\"c\",\"e\",\"g\",..: 5 10 9 9 4 10 9 9 9 10 ...\n",
      " $ bruises                 : Factor w/ 2 levels \"f\",\"t\": 2 2 2 2 1 2 2 2 2 2 ...\n",
      " $ odor                    : Factor w/ 9 levels \"a\",\"c\",\"f\",\"l\",..: 7 1 4 7 6 1 1 4 7 1 ...\n",
      " $ gill_attachment         : Factor w/ 2 levels \"a\",\"f\": 2 2 2 2 2 2 2 2 2 2 ...\n",
      " $ gill_spacing            : Factor w/ 2 levels \"c\",\"w\": 1 1 1 1 2 1 1 1 1 1 ...\n",
      " $ gill_size               : Factor w/ 2 levels \"b\",\"n\": 2 1 1 2 1 1 1 1 2 1 ...\n",
      " $ gill_color              : Factor w/ 12 levels \"b\",\"e\",\"g\",\"h\",..: 5 5 6 6 5 6 3 6 8 3 ...\n",
      " $ stalk_shape             : Factor w/ 2 levels \"e\",\"t\": 1 1 1 1 2 1 1 1 1 1 ...\n",
      " $ stalk_root              : Factor w/ 5 levels \"?\",\"b\",\"c\",\"e\",..: 4 3 3 4 4 3 3 3 4 3 ...\n",
      " $ stalk_surface_above_ring: Factor w/ 4 levels \"f\",\"k\",\"s\",\"y\": 3 3 3 3 3 3 3 3 3 3 ...\n",
      " $ stalk_surface_below_ring: Factor w/ 4 levels \"f\",\"k\",\"s\",\"y\": 3 3 3 3 3 3 3 3 3 3 ...\n",
      " $ stalk_color_above_ring  : Factor w/ 9 levels \"b\",\"c\",\"e\",\"g\",..: 8 8 8 8 8 8 8 8 8 8 ...\n",
      " $ stalk_color_below_ring  : Factor w/ 9 levels \"b\",\"c\",\"e\",\"g\",..: 8 8 8 8 8 8 8 8 8 8 ...\n",
      " $ veil_type               : Factor w/ 1 level \"p\": 1 1 1 1 1 1 1 1 1 1 ...\n",
      " $ veil_color              : Factor w/ 4 levels \"n\",\"o\",\"w\",\"y\": 3 3 3 3 3 3 3 3 3 3 ...\n",
      " $ ring_number             : Factor w/ 3 levels \"n\",\"o\",\"t\": 2 2 2 2 2 2 2 2 2 2 ...\n",
      " $ ring_type               : Factor w/ 5 levels \"e\",\"f\",\"l\",\"n\",..: 5 5 5 5 1 5 5 5 5 5 ...\n",
      " $ spore_print_color       : Factor w/ 9 levels \"b\",\"h\",\"k\",\"n\",..: 3 4 4 3 4 3 3 4 3 3 ...\n",
      " $ population              : Factor w/ 6 levels \"a\",\"c\",\"n\",\"s\",..: 4 3 3 4 1 3 3 4 5 4 ...\n",
      " $ habitat                 : Factor w/ 7 levels \"d\",\"g\",\"l\",\"m\",..: 6 2 4 6 2 2 4 4 2 4 ...\n"
     ]
    }
   ],
   "source": [
    "## Carga de los datos\n",
    "## mushrooms <- read.csv(\"data/mushrooms.csv\", stringsAsFactors = TRUE)\n",
    "## str(mushrooms)\n",
    "\n",
    "## 'data.frame':\t8124 obs. of  23 variables:\n",
    "##  $ type                    : Factor w/ 2 levels \"e\",\"p\": 2 1 1 2 1 1 1 1 2 1 ...\n",
    "##  $ cap_shape               : Factor w/ 6 levels \"b\",\"c\",\"f\",\"k\",..: 6 6 1 6 6 6 1 1 6 1 ...\n",
    "##  $ cap_surface             : Factor w/ 4 levels \"f\",\"g\",\"s\",\"y\": 3 3 3 4 3 4 3 4 4 3 ...\n",
    "##  $ cap_color               : Factor w/ 10 levels \"b\",\"c\",\"e\",\"g\",..: 5 10 9 9 4 10 9 9 9 10 ...\n",
    "##  $ bruises                 : Factor w/ 2 levels \"f\",\"t\": 2 2 2 2 1 2 2 2 2 2 ...\n",
    "##  $ odor                    : Factor w/ 9 levels \"a\",\"c\",\"f\",\"l\",..: 7 1 4 7 6 1 1 4 7 1 ...\n",
    "##  $ gill_attachment         : Factor w/ 2 levels \"a\",\"f\": 2 2 2 2 2 2 2 2 2 2 ...\n",
    "##  $ gill_spacing            : Factor w/ 2 levels \"c\",\"w\": 1 1 1 1 2 1 1 1 1 1 ...\n",
    "##  $ gill_size               : Factor w/ 2 levels \"b\",\"n\": 2 1 1 2 1 1 1 1 2 1 ...\n",
    "##  $ gill_color              : Factor w/ 12 levels \"b\",\"e\",\"g\",\"h\",..: 5 5 6 6 5 6 3 6 8 3 ...\n",
    "##  $ stalk_shape             : Factor w/ 2 levels \"e\",\"t\": 1 1 1 1 2 1 1 1 1 1 ...\n",
    "##  $ stalk_root              : Factor w/ 5 levels \"?\",\"b\",\"c\",\"e\",..: 4 3 3 4 4 3 3 3 4 3 ...\n",
    "##  $ stalk_surface_above_ring: Factor w/ 4 levels \"f\",\"k\",\"s\",\"y\": 3 3 3 3 3 3 3 3 3 3 ...\n",
    "##  $ stalk_surface_below_ring: Factor w/ 4 levels \"f\",\"k\",\"s\",\"y\": 3 3 3 3 3 3 3 3 3 3 ...\n",
    "##  $ stalk_color_above_ring  : Factor w/ 9 levels \"b\",\"c\",\"e\",\"g\",..: 8 8 8 8 8 8 8 8 8 8 ...\n",
    "##  $ stalk_color_below_ring  : Factor w/ 9 levels \"b\",\"c\",\"e\",\"g\",..: 8 8 8 8 8 8 8 8 8 8 ...\n",
    "##  $ veil_type               : Factor w/ 1 level \"p\": 1 1 1 1 1 1 1 1 1 1 ...\n",
    "##  $ veil_color              : Factor w/ 4 levels \"n\",\"o\",\"w\",\"y\": 3 3 3 3 3 3 3 3 3 3 ...\n",
    "##  $ ring_number             : Factor w/ 3 levels \"n\",\"o\",\"t\": 2 2 2 2 2 2 2 2 2 2 ...\n",
    "##  $ ring_type               : Factor w/ 5 levels \"e\",\"f\",\"l\",\"n\",..: 5 5 5 5 1 5 5 5 5 5 ...\n",
    "##  $ spore_print_color       : Factor w/ 9 levels \"b\",\"h\",\"k\",\"n\",..: 3 4 4 3 4 3 3 4 3 3 ...\n",
    "##  $ population              : Factor w/ 6 levels \"a\",\"c\",\"n\",\"s\",..: 4 3 3 4 1 3 3 4 5 4 ...\n",
    "##  $ habitat                 : Factor w/ 7 levels \"d\",\"g\",\"l\",\"m\",..: 6 2 4 6 2 2 4 4 2 4 ...\n",
    "## "
   ]
  },
  {
   "cell_type": "code",
   "execution_count": null,
   "metadata": {
    "collapsed": true
   },
   "outputs": [],
   "source": [
    "## Esta variable contiene un único valor y se elimina\n",
    "## mushrooms$veil_type <- NULL"
   ]
  },
  {
   "cell_type": "code",
   "execution_count": null,
   "metadata": {},
   "outputs": [
    {
     "data": {
      "text/plain": [
       "\n",
       "   e    p \n",
       "4208 3916 "
      ]
     },
     "metadata": {},
     "output_type": "display_data"
    }
   ],
   "source": [
    "## Cantidad de casos para cada diagnóstico (e-edible, p-poisonous)\n",
    "## table(mushrooms$type)\n",
    "\n",
    "## \n",
    "##    e    p \n",
    "## 4208 3916 "
   ]
  },
  {
   "cell_type": "markdown",
   "metadata": {},
   "source": [
    "# Metodología OneR"
   ]
  },
  {
   "cell_type": "markdown",
   "metadata": {},
   "source": [
    "La metodología OneR se basa en la partición del espacio de entrada usando una y sólo una de las variables (atributos) del problema. Para el problema planteado, una regla basada en el atributo `odor` podría ser:\n",
    "\n",
    "    if odor in {almond, anise, none}:\n",
    "       type = edible\n",
    "    else:  # el resto {creosote, fishy, foul, musty, pungent, spicy}\n",
    "       type = poisonous\n",
    "      "
   ]
  },
  {
   "cell_type": "markdown",
   "metadata": {},
   "source": [
    "El algritmo funciona de la siguiente forma: se toma el primer atributo (`cap_shape`) y se divide en grupos por cada  valor que puede tomar dicho atributo, es decir, por `bell`, `conical`, `convex`, `flat`, `knobbed` y `sunken`; para cada atributo se cuentan cuántos ejemplos hay de cada categoría y se asigna la clase por mayoría, esto es, si hay 11 ejemplos para la categoría `bell` y cinco de ellos pertencen a la clase `poisonous` y los siete restantes a `edible` se dice que `if cap_shape == bell: type = edible`. Así, el clasificador basado en este atributo podría ser:\n",
    "\n",
    "    if cap_shape == bell: \n",
    "       type = edible\n",
    "    elif cap_shape == conical:\n",
    "       type = poisonous\n",
    "    elif cap_shape == convex:\n",
    "       type = poisonous\n",
    "    elif cap_shape == flat:\n",
    "       type = edible\n",
    "    elif cap_shape == knobbed:\n",
    "        type = poisonous\n",
    "    else:\n",
    "        type = edible\n",
    "        \n",
    "Al agrupar por `type`, este conjunto de reglas se reescribe como:\n",
    "\n",
    "    if cap_shape in {bell, flat, suken}:\n",
    "        type = edible\n",
    "    else:\n",
    "        type = poisonous\n",
    "        \n",
    "Para el clasificador anterior se puede calcular una métrica de error.\n",
    "\n",
    "Luego se toma el segundo atributo y se procede de igual forma para construir otro clasificador. El proceso se repite hasta obtener un clasificador por cada atributo. Se escoge el clasificador con la menor métrica de error."
   ]
  },
  {
   "cell_type": "markdown",
   "metadata": {},
   "source": [
    "**Ejercicio.** ¿Cómo se adapta el algoritmo anterior para variables continuas?"
   ]
  },
  {
   "cell_type": "markdown",
   "metadata": {},
   "source": [
    "# Preparación de los datos"
   ]
  },
  {
   "cell_type": "code",
   "execution_count": null,
   "metadata": {
    "collapsed": true
   },
   "outputs": [],
   "source": [
    "## los datos no requieren preparación"
   ]
  },
  {
   "cell_type": "markdown",
   "metadata": {},
   "source": [
    "# Entrenamiento del modelo"
   ]
  },
  {
   "cell_type": "code",
   "execution_count": null,
   "metadata": {
    "scrolled": false
   },
   "outputs": [
    {
     "name": "stdout",
     "output_type": "stream",
     "text": [
      "\n",
      "    Attribute                Accuracy\n",
      "1 * odor                     98.52%  \n",
      "2   spore_print_color        86.8%   \n",
      "3   gill_color               80.5%   \n",
      "4   ring_type                77.55%  \n",
      "5   stalk_surface_above_ring 77.45%  \n",
      "6   stalk_surface_below_ring 76.61%  \n",
      "7   gill_size                75.63%  \n",
      "8   bruises                  74.4%   \n",
      "9   population               72.18%  \n",
      "10  stalk_color_above_ring   71.64%  \n",
      "11  stalk_color_below_ring   71.44%  \n",
      "12  habitat                  69.03%  \n",
      "13  stalk_root               64.6%   \n",
      "14  gill_spacing             61.6%   \n",
      "15  cap_color                59.53%  \n",
      "16  cap_surface              58.05%  \n",
      "17  cap_shape                56.43%  \n",
      "18  stalk_shape              55.29%  \n",
      "19  ring_number              53.82%  \n",
      "20  veil_color               51.9%   \n",
      "21  gill_attachment          51.8%   \n",
      "---\n",
      "Chosen attribute due to accuracy\n",
      "and ties method (if applicable): '*'\n",
      "\n"
     ]
    },
    {
     "data": {
      "text/plain": [
       "\n",
       "Call:\n",
       "OneR.formula(formula = type ~ ., data = mushrooms, verbose = TRUE)\n",
       "\n",
       "Rules:\n",
       "If odor = a then type = e\n",
       "If odor = c then type = p\n",
       "If odor = f then type = p\n",
       "If odor = l then type = e\n",
       "If odor = m then type = p\n",
       "If odor = n then type = e\n",
       "If odor = p then type = p\n",
       "If odor = s then type = p\n",
       "If odor = y then type = p\n",
       "\n",
       "Accuracy:\n",
       "8004 of 8124 instances classified correctly (98.52%)\n"
      ]
     },
     "metadata": {},
     "output_type": "display_data"
    }
   ],
   "source": [
    "## Carga la librería.\n",
    "## install.packages(\"OneR\")\n",
    "## library(OneR)\n",
    "## mushroom_1R <- OneR(type ~ ., data = mushrooms, verbose = TRUE)\n",
    "## mushroom_1R\n",
    "\n",
    "## \n",
    "##     Attribute                Accuracy\n",
    "## 1 * odor                     98.52%  \n",
    "## 2   spore_print_color        86.8%   \n",
    "## 3   gill_color               80.5%   \n",
    "## 4   ring_type                77.55%  \n",
    "## 5   stalk_surface_above_ring 77.45%  \n",
    "## 6   stalk_surface_below_ring 76.61%  \n",
    "## 7   gill_size                75.63%  \n",
    "## 8   bruises                  74.4%   \n",
    "## 9   population               72.18%  \n",
    "## 10  stalk_color_above_ring   71.64%  \n",
    "## 11  stalk_color_below_ring   71.44%  \n",
    "## 12  habitat                  69.03%  \n",
    "## 13  stalk_root               64.6%   \n",
    "## 14  gill_spacing             61.6%   \n",
    "## 15  cap_color                59.53%  \n",
    "## 16  cap_surface              58.05%  \n",
    "## 17  cap_shape                56.43%  \n",
    "## 18  stalk_shape              55.29%  \n",
    "## 19  ring_number              53.82%  \n",
    "## 20  veil_color               51.9%   \n",
    "## 21  gill_attachment          51.8%   \n",
    "## ---\n",
    "## Chosen attribute due to accuracy\n",
    "## and ties method (if applicable): '*'\n",
    "## \n",
    "## "
   ]
  },
  {
   "cell_type": "markdown",
   "metadata": {},
   "source": [
    "La porción final de la salida contiene la descripción de las reglas del clasificador\n",
    "\n",
    "    Rules:\n",
    "      If odor = almond   then type = edible\n",
    "      If odor = creosote then type = poisonous \n",
    "      If odor = foul     then type = poisonous\n",
    "      If odor = anise    then type = edible\n",
    "      If odor = musty.   then type = poisonous\n",
    "      If odor = none     then type = edible\n",
    "      If odor = pungent  then type = poisonous\n",
    "      If odor = spicy    then type = poisonous\n",
    "      If odor = fishy    then type = poisonous\n",
    "      "
   ]
  },
  {
   "cell_type": "markdown",
   "metadata": {},
   "source": [
    "# Evaluación del modelo"
   ]
  },
  {
   "cell_type": "code",
   "execution_count": null,
   "metadata": {
    "scrolled": false
   },
   "outputs": [
    {
     "name": "stdout",
     "output_type": "stream",
     "text": [
      "\n",
      "Call:\n",
      "OneR.formula(formula = type ~ ., data = mushrooms)\n",
      "\n",
      "Rules:\n",
      "If odor = a then type = e\n",
      "If odor = c then type = p\n",
      "If odor = f then type = p\n",
      "If odor = l then type = e\n",
      "If odor = m then type = p\n",
      "If odor = n then type = e\n",
      "If odor = p then type = p\n",
      "If odor = s then type = p\n",
      "If odor = y then type = p\n",
      "\n",
      "Accuracy:\n",
      "8004 of 8124 instances classified correctly (98.52%)\n",
      "\n",
      "Contingency table:\n",
      "     odor\n",
      "type      a     c      f     l    m      n     p     s     y  Sum\n",
      "  e   * 400     0      0 * 400    0 * 3408     0     0     0 4208\n",
      "  p       0 * 192 * 2160     0 * 36    120 * 256 * 576 * 576 3916\n",
      "  Sum   400   192   2160   400   36   3528   256   576   576 8124\n",
      "---\n",
      "Maximum in each column: '*'\n",
      "\n",
      "Pearson's Chi-squared test:\n",
      "X-squared = 7659.7, df = 8, p-value < 2.2e-16\n",
      "\n"
     ]
    }
   ],
   "source": [
    "## summary(mushroom_1R)\n",
    "\n",
    "## \n",
    "## Call:\n",
    "## OneR.formula(formula = type ~ ., data = mushrooms)\n",
    "## \n",
    "## Rules:\n",
    "## If odor = a then type = e\n",
    "## If odor = c then type = p\n",
    "## If odor = f then type = p\n",
    "## If odor = l then type = e\n",
    "## If odor = m then type = p\n",
    "## If odor = n then type = e\n",
    "## If odor = p then type = p\n",
    "## If odor = s then type = p\n",
    "## If odor = y then type = p\n",
    "## \n",
    "## Accuracy:\n",
    "## 8004 of 8124 instances classified correctly (98.52%)\n",
    "## \n",
    "## Contingency table:\n",
    "##      odor\n",
    "## type      a     c      f     l    m      n     p     s     y  Sum\n",
    "##   e   * 400     0      0 * 400    0 * 3408     0     0     0 4208\n",
    "##   p       0 * 192 * 2160     0 * 36    120 * 256 * 576 * 576 3916\n",
    "##   Sum   400   192   2160   400   36   3528   256   576   576 8124\n",
    "## ---\n",
    "## Maximum in each column: '*'\n",
    "## \n",
    "## Pearson's Chi-squared test:\n",
    "## X-squared = 7659.7, df = 8, p-value < 2.2e-16\n",
    "## \n",
    "## "
   ]
  },
  {
   "cell_type": "markdown",
   "metadata": {},
   "source": [
    "**Ejercicio.--** Cómo se interpreta la tabla anterior?"
   ]
  },
  {
   "cell_type": "markdown",
   "metadata": {},
   "source": [
    "---"
   ]
  },
  {
   "cell_type": "markdown",
   "metadata": {},
   "source": [
    "Identificación de hongos venenosos\n",
    "===\n",
    "\n",
    "**Juan David Velásquez Henao**  \n",
    "jdvelasq@unal.edu.co   \n",
    "Universidad Nacional de Colombia, Sede Medellín  \n",
    "Facultad de Minas  \n",
    "Medellín, Colombia\n",
    "\n",
    "---\n",
    "\n",
    "Haga click [aquí](https://github.com/jdvelasq/predictive-analytics/blob/master/07-OneR-R-mushrooms.ipynb) para acceder a la última versión online.\n",
    "\n",
    "Haga click [aquí](http://nbviewer.jupyter.org/github/jdvelasq/predictive-analytics/blob/master/07-OneR-R-mushrooms.ipynb) para ver la última versión online en `nbviewer`. \n",
    "\n",
    "---\n",
    "[Licencia](https://github.com/jdvelasq/predictive-analytics/blob/master/LICENSE)  \n",
    "[Readme](https://github.com/jdvelasq/predictive-analytics/blob/master/readme.md)"
   ]
  }
 ],
 "metadata": {
  "kernel_info": {
   "name": "python3"
  },
  "kernelspec": {
   "display_name": "R",
   "language": "R",
   "name": "ir"
  },
  "language_info": {
   "codemirror_mode": "r",
   "file_extension": ".r",
   "mimetype": "text/x-r-source",
   "name": "R",
   "pygments_lexer": "r",
   "version": "3.4.3"
  },
  "nteract": {
   "version": "0.7.1"
  }
 },
 "nbformat": 4,
 "nbformat_minor": 2
}
