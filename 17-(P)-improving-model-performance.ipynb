{
 "cells": [
  {
   "cell_type": "markdown",
   "metadata": {},
   "source": [
    "Mejora del desempeño de los modelos\n",
    "===\n",
    "\n",
    "**Juan David Velásquez Henao**  \n",
    "jdvelasq@unal.edu.co   \n",
    "Universidad Nacional de Colombia, Sede Medellín  \n",
    "Facultad de Minas  \n",
    "Medellín, Colombia\n",
    "\n",
    "---\n",
    "\n",
    "Haga click [aquí](https://github.com/jdvelasq/predictive-analytics/blob/master/19-R-improving-model-performance.ipynb) para acceder a la última versión online.\n",
    "\n",
    "Haga click [aquí](http://nbviewer.jupyter.org/github/jdvelasq/predictive-analytics/blob/master/19-R-improving-model-performance.ipynb) para ver la última versión online en `nbviewer`. \n",
    "\n",
    "---\n",
    "[Licencia](https://github.com/jdvelasq/predictive-analytics/blob/master/LICENSE)  \n",
    "[Readme](https://github.com/jdvelasq/predictive-analytics/blob/master/readme.md)"
   ]
  },
  {
   "cell_type": "markdown",
   "metadata": {},
   "source": [
    "# Definición del problema real"
   ]
  },
  {
   "cell_type": "markdown",
   "metadata": {},
   "source": [
    "El muchos de los modelos vistos en tutoriales anteriores, el usuario debe ajustar los parámetros correspondientes buscando el mejor desempeño del modelo. Este proceso suele ser heurístico y basado en ensayo y error. Se requieren establecer estrategias para la búsqueda del mejor conjunto de parámetros. "
   ]
  },
  {
   "cell_type": "markdown",
   "metadata": {},
   "source": [
    "# Definición del problema en términos de los datos"
   ]
  },
  {
   "cell_type": "markdown",
   "metadata": {},
   "source": [
    "Al resolver el problema de clasificación de créditos riesgosos usando un árbol de decisión, el usuario debe fijar los valores de los parámetros que determinan como se construye el modelo. ¿Cómo se puede obtener el mejor conjunto de parámetros del modelo, tal que se obtenga el mejor clasificador posible?"
   ]
  },
  {
   "cell_type": "markdown",
   "metadata": {},
   "source": [
    "# Solución"
   ]
  },
  {
   "cell_type": "code",
   "execution_count": null,
   "metadata": {
    "collapsed": true
   },
   "outputs": [],
   "source": [
    "## Se carga la librería y se leen los datos\n",
    "## library(C50)\n",
    "## credit <- read.csv(\"data/credit.csv\")\n",
    "## credit$default <- factor(credit$default, labels=c(\"No\", \"Yes\"))"
   ]
  },
  {
   "cell_type": "code",
   "execution_count": null,
   "metadata": {},
   "outputs": [
    {
     "name": "stderr",
     "output_type": "stream",
     "text": [
      "Loading required package: lattice\n",
      "Loading required package: ggplot2\n"
     ]
    },
    {
     "data": {
      "text/html": [
       "<table>\n",
       "<thead><tr><th scope=col>model</th><th scope=col>parameter</th><th scope=col>label</th><th scope=col>forReg</th><th scope=col>forClass</th><th scope=col>probModel</th></tr></thead>\n",
       "<tbody>\n",
       "\t<tr><td>C5.0                 </td><td>trials               </td><td># Boosting Iterations</td><td>FALSE                </td><td>TRUE                 </td><td>TRUE                 </td></tr>\n",
       "\t<tr><td>C5.0                 </td><td>model                </td><td>Model Type           </td><td>FALSE                </td><td>TRUE                 </td><td>TRUE                 </td></tr>\n",
       "\t<tr><td>C5.0                 </td><td>winnow               </td><td>Winnow               </td><td>FALSE                </td><td>TRUE                 </td><td>TRUE                 </td></tr>\n",
       "</tbody>\n",
       "</table>\n"
      ],
      "text/latex": [
       "\\begin{tabular}{r|llllll}\n",
       " model & parameter & label & forReg & forClass & probModel\\\\\n",
       "\\hline\n",
       "\t C5.0                    & trials                  & \\# Boosting Iterations & FALSE                   & TRUE                    & TRUE                   \\\\\n",
       "\t C5.0                  & model                 & Model Type            & FALSE                 & TRUE                  & TRUE                 \\\\\n",
       "\t C5.0                  & winnow                & Winnow                & FALSE                 & TRUE                  & TRUE                 \\\\\n",
       "\\end{tabular}\n"
      ],
      "text/markdown": [
       "\n",
       "model | parameter | label | forReg | forClass | probModel | \n",
       "|---|---|---|\n",
       "| C5.0                  | trials                | # Boosting Iterations | FALSE                 | TRUE                  | TRUE                  | \n",
       "| C5.0                  | model                 | Model Type            | FALSE                 | TRUE                  | TRUE                  | \n",
       "| C5.0                  | winnow                | Winnow                | FALSE                 | TRUE                  | TRUE                  | \n",
       "\n",
       "\n"
      ],
      "text/plain": [
       "  model parameter label                 forReg forClass probModel\n",
       "1 C5.0  trials    # Boosting Iterations FALSE  TRUE     TRUE     \n",
       "2 C5.0  model     Model Type            FALSE  TRUE     TRUE     \n",
       "3 C5.0  winnow    Winnow                FALSE  TRUE     TRUE     "
      ]
     },
     "metadata": {},
     "output_type": "display_data"
    }
   ],
   "source": [
    "## Esta función lista los parámetros que \n",
    "## pueden ajustarse para cada modelo \n",
    "## library(caret)\n",
    "## modelLookup(\"C5.0\")\n",
    "\n",
    "## Loading required package: lattice\n",
    "## Loading required package: ggplot2\n",
    "## "
   ]
  },
  {
   "cell_type": "code",
   "execution_count": null,
   "metadata": {},
   "outputs": [
    {
     "data": {
      "text/plain": [
       "C5.0 \n",
       "\n",
       "1000 samples\n",
       "  20 predictor\n",
       "   2 classes: 'No', 'Yes' \n",
       "\n",
       "No pre-processing\n",
       "Resampling: Bootstrapped (25 reps) \n",
       "Summary of sample sizes: 1000, 1000, 1000, 1000, 1000, 1000, ... \n",
       "Resampling results across tuning parameters:\n",
       "\n",
       "  model  winnow  trials  Accuracy   Kappa    \n",
       "  rules  FALSE    1      0.6923931  0.2736692\n",
       "  rules  FALSE   10      0.7221394  0.3408652\n",
       "  rules  FALSE   20      0.7347490  0.3622943\n",
       "  rules   TRUE    1      0.6913853  0.2693031\n",
       "  rules   TRUE   10      0.7156087  0.3252182\n",
       "  rules   TRUE   20      0.7264898  0.3438105\n",
       "  tree   FALSE    1      0.6922255  0.2564458\n",
       "  tree   FALSE   10      0.7308796  0.3120268\n",
       "  tree   FALSE   20      0.7327493  0.3166876\n",
       "  tree    TRUE    1      0.6871812  0.2478289\n",
       "  tree    TRUE   10      0.7338952  0.3250631\n",
       "  tree    TRUE   20      0.7353105  0.3266443\n",
       "\n",
       "Accuracy was used to select the optimal model using the largest value.\n",
       "The final values used for the model were trials = 20, model = tree and winnow\n",
       " = TRUE."
      ]
     },
     "metadata": {},
     "output_type": "display_data"
    }
   ],
   "source": [
    "## La función `train` permite construir muchos modelos\n",
    "## que difieren en el conjunto de parámetros ajustables\n",
    "## requeridos para su estimación. Se usan los valores\n",
    "## por defecto que tiene `train`.\n",
    "## Note que este paso requiere mucho tiempo de cómputo.\n",
    "## set.seed(300)\n",
    "## m <- train(default ~ ., data = credit, method = \"C5.0\")\n",
    "## m\n",
    "\n",
    "## C5.0 \n",
    "## \n",
    "## 1000 samples\n",
    "##   20 predictor\n",
    "##    2 classes: 'No', 'Yes' \n",
    "## \n",
    "## No pre-processing\n",
    "## Resampling: Bootstrapped (25 reps) \n",
    "## Summary of sample sizes: 1000, 1000, 1000, 1000, 1000, 1000, ... \n",
    "## Resampling results across tuning parameters:\n",
    "## \n",
    "##   model  winnow  trials  Accuracy   Kappa    \n",
    "##   rules  FALSE    1      0.6923931  0.2736692\n",
    "##   rules  FALSE   10      0.7221394  0.3408652\n",
    "##   rules  FALSE   20      0.7347490  0.3622943\n",
    "##   rules   TRUE    1      0.6913853  0.2693031\n",
    "##   rules   TRUE   10      0.7156087  0.3252182\n",
    "##   rules   TRUE   20      0.7264898  0.3438105\n",
    "##   tree   FALSE    1      0.6922255  0.2564458\n",
    "##   tree   FALSE   10      0.7308796  0.3120268\n",
    "##   tree   FALSE   20      0.7327493  0.3166876\n",
    "##   tree    TRUE    1      0.6871812  0.2478289\n",
    "##   tree    TRUE   10      0.7338952  0.3250631\n",
    "##   tree    TRUE   20      0.7353105  0.3266443\n",
    "## \n",
    "## Accuracy was used to select the optimal model using the largest value.\n",
    "## The final values used for the model were trials = 20, model = tree and winnow\n",
    "##  = TRUE."
   ]
  },
  {
   "cell_type": "markdown",
   "metadata": {},
   "source": [
    "Note que en la tabla anterior, el valor del estadístico de ajuste para cada corrida es obtenido sobre 25 réplicas bootstrap para cada conjunto posible de parámetros. Los valores posibles que puede tomar cada parámetro son:\n",
    "\n",
    "\n",
    "* `model` = {rules, tree}\n",
    "\n",
    "\n",
    "* `winnow` = {TRUE, FALSE}\n",
    "\n",
    "\n",
    "* `trials` = {1, 10, 20}\n",
    "\n",
    "Entonces, 2 x 2 x 3 = 12.\n",
    "\n",
    "Este proceso es equivalente a realizar un diseño de experimentos para obtener la mejor combinación de parámetros."
   ]
  },
  {
   "cell_type": "code",
   "execution_count": null,
   "metadata": {},
   "outputs": [
    {
     "data": {
      "text/plain": [
       "\n",
       "Call:\n",
       "(function (x, y, trials = 1, rules = FALSE, weights = NULL, control\n",
       " \"winnow\", \"noGlobalPruning\", \"CF\", \"minCases\", \"fuzzyThreshold\",\n",
       " \"sample\", \"earlyStopping\", \"label\", \"seed\")))\n",
       "\n",
       "Classification Tree\n",
       "Number of samples: 1000 \n",
       "Number of predictors: 48 \n",
       "\n",
       "Number of boosting iterations: 20 \n",
       "Average tree size: 45.1 \n",
       "\n",
       "Non-standard options: attempt to group attributes, winnowing\n"
      ]
     },
     "metadata": {},
     "output_type": "display_data"
    }
   ],
   "source": [
    "## Después de identificar el mejor modelo, `train()` \n",
    "## usa el mejor conjunto de parámetros para construir \n",
    "## un modelo estimado sobre todo el conjunto de datos.\n",
    "## Mejor modelo:\n",
    "## m$finalModel\n",
    "\n",
    "## \n",
    "## Call:\n",
    "## (function (x, y, trials = 1, rules = FALSE, weights = NULL, control\n",
    "##  \"winnow\", \"noGlobalPruning\", \"CF\", \"minCases\", \"fuzzyThreshold\",\n",
    "##  \"sample\", \"earlyStopping\", \"label\", \"seed\")))\n",
    "## \n",
    "## Classification Tree\n",
    "## Number of samples: 1000 \n",
    "## Number of predictors: 48 \n",
    "## \n",
    "## Number of boosting iterations: 20 \n",
    "## Average tree size: 45.1 \n",
    "## \n",
    "## Non-standard options: attempt to group attributes, winnowing\n",
    "## "
   ]
  },
  {
   "cell_type": "code",
   "execution_count": null,
   "metadata": {},
   "outputs": [
    {
     "data": {
      "text/plain": [
       "     \n",
       "p      No Yes\n",
       "  No  676  79\n",
       "  Yes  24 221"
      ]
     },
     "metadata": {},
     "output_type": "display_data"
    }
   ],
   "source": [
    "## Pronóstico\n",
    "## p <- predict(m, credit)\n",
    "## table(p, credit$default)\n",
    "\n",
    "##      \n",
    "## p      No Yes\n",
    "##   No  676  79\n",
    "##   Yes  24 221"
   ]
  },
  {
   "cell_type": "code",
   "execution_count": null,
   "metadata": {},
   "outputs": [
    {
     "data": {
      "text/html": [
       "<table>\n",
       "<thead><tr><th scope=col>No</th><th scope=col>Yes</th></tr></thead>\n",
       "<tbody>\n",
       "\t<tr><td>0.8720819 </td><td>0.12791809</td></tr>\n",
       "\t<tr><td>0.3284062 </td><td>0.67159380</td></tr>\n",
       "\t<tr><td>1.0000000 </td><td>0.00000000</td></tr>\n",
       "\t<tr><td>0.7563177 </td><td>0.24368229</td></tr>\n",
       "\t<tr><td>0.4531721 </td><td>0.54682785</td></tr>\n",
       "\t<tr><td>0.9085110 </td><td>0.09148904</td></tr>\n",
       "</tbody>\n",
       "</table>\n"
      ],
      "text/latex": [
       "\\begin{tabular}{r|ll}\n",
       " No & Yes\\\\\n",
       "\\hline\n",
       "\t 0.8720819  & 0.12791809\\\\\n",
       "\t 0.3284062  & 0.67159380\\\\\n",
       "\t 1.0000000  & 0.00000000\\\\\n",
       "\t 0.7563177  & 0.24368229\\\\\n",
       "\t 0.4531721  & 0.54682785\\\\\n",
       "\t 0.9085110  & 0.09148904\\\\\n",
       "\\end{tabular}\n"
      ],
      "text/markdown": [
       "\n",
       "No | Yes | \n",
       "|---|---|---|---|---|---|\n",
       "| 0.8720819  | 0.12791809 | \n",
       "| 0.3284062  | 0.67159380 | \n",
       "| 1.0000000  | 0.00000000 | \n",
       "| 0.7563177  | 0.24368229 | \n",
       "| 0.4531721  | 0.54682785 | \n",
       "| 0.9085110  | 0.09148904 | \n",
       "\n",
       "\n"
      ],
      "text/plain": [
       "  No        Yes       \n",
       "1 0.8720819 0.12791809\n",
       "2 0.3284062 0.67159380\n",
       "3 1.0000000 0.00000000\n",
       "4 0.7563177 0.24368229\n",
       "5 0.4531721 0.54682785\n",
       "6 0.9085110 0.09148904"
      ]
     },
     "metadata": {},
     "output_type": "display_data"
    }
   ],
   "source": [
    "## Probabilidades del pronóstico para la muestra de entrenamiento\n",
    "## head(predict(m, credit, type = \"prob\"))\n",
    "\n",
    "##   No        Yes       \n",
    "## 1 0.8720819 0.12791809\n",
    "## 2 0.3284062 0.67159380\n",
    "## 3 1.0000000 0.00000000\n",
    "## 4 0.7563177 0.24368229\n",
    "## 5 0.4531721 0.54682785\n",
    "## 6 0.9085110 0.09148904"
   ]
  },
  {
   "cell_type": "code",
   "execution_count": null,
   "metadata": {
    "collapsed": true
   },
   "outputs": [],
   "source": [
    "## A continuación se ejemplifica como parametrizar\n",
    "## la búsqueda realizada por train. \n",
    "## ctrl <- trainControl(method = \"cv\",               # cross validation\n",
    "##                      number = 10,                 # número de grupos\n",
    "##                      selectionFunction = \"oneSE\") # "
   ]
  },
  {
   "cell_type": "code",
   "execution_count": null,
   "metadata": {},
   "outputs": [
    {
     "data": {
      "text/html": [
       "<table>\n",
       "<thead><tr><th scope=col>.model</th><th scope=col>.trials</th><th scope=col>.winnow</th></tr></thead>\n",
       "<tbody>\n",
       "\t<tr><td>tree </td><td> 1   </td><td>FALSE</td></tr>\n",
       "\t<tr><td>tree </td><td> 5   </td><td>FALSE</td></tr>\n",
       "\t<tr><td>tree </td><td>10   </td><td>FALSE</td></tr>\n",
       "\t<tr><td>tree </td><td>15   </td><td>FALSE</td></tr>\n",
       "\t<tr><td>tree </td><td>20   </td><td>FALSE</td></tr>\n",
       "\t<tr><td>tree </td><td>25   </td><td>FALSE</td></tr>\n",
       "\t<tr><td>tree </td><td>30   </td><td>FALSE</td></tr>\n",
       "\t<tr><td>tree </td><td>35   </td><td>FALSE</td></tr>\n",
       "</tbody>\n",
       "</table>\n"
      ],
      "text/latex": [
       "\\begin{tabular}{r|lll}\n",
       " .model & .trials & .winnow\\\\\n",
       "\\hline\n",
       "\t tree  &  1    & FALSE\\\\\n",
       "\t tree  &  5    & FALSE\\\\\n",
       "\t tree  & 10    & FALSE\\\\\n",
       "\t tree  & 15    & FALSE\\\\\n",
       "\t tree  & 20    & FALSE\\\\\n",
       "\t tree  & 25    & FALSE\\\\\n",
       "\t tree  & 30    & FALSE\\\\\n",
       "\t tree  & 35    & FALSE\\\\\n",
       "\\end{tabular}\n"
      ],
      "text/markdown": [
       "\n",
       ".model | .trials | .winnow | \n",
       "|---|---|---|---|---|---|---|---|\n",
       "| tree  |  1    | FALSE | \n",
       "| tree  |  5    | FALSE | \n",
       "| tree  | 10    | FALSE | \n",
       "| tree  | 15    | FALSE | \n",
       "| tree  | 20    | FALSE | \n",
       "| tree  | 25    | FALSE | \n",
       "| tree  | 30    | FALSE | \n",
       "| tree  | 35    | FALSE | \n",
       "\n",
       "\n"
      ],
      "text/plain": [
       "  .model .trials .winnow\n",
       "1 tree    1      FALSE  \n",
       "2 tree    5      FALSE  \n",
       "3 tree   10      FALSE  \n",
       "4 tree   15      FALSE  \n",
       "5 tree   20      FALSE  \n",
       "6 tree   25      FALSE  \n",
       "7 tree   30      FALSE  \n",
       "8 tree   35      FALSE  "
      ]
     },
     "metadata": {},
     "output_type": "display_data"
    }
   ],
   "source": [
    "## Se crea una malla de valores posibles\n",
    "## para los parámetros a optimizar\n",
    "## grid <- expand.grid(.model = \"tree\",\n",
    "##                     .trials = c(1, 5, 10, 15, 20, 25, 30, 35),\n",
    "##                     .winnow = \"FALSE\")\n",
    "## grid\n",
    "\n",
    "##   .model .trials .winnow\n",
    "## 1 tree    1      FALSE  \n",
    "## 2 tree    5      FALSE  \n",
    "## 3 tree   10      FALSE  \n",
    "## 4 tree   15      FALSE  \n",
    "## 5 tree   20      FALSE  \n",
    "## 6 tree   25      FALSE  \n",
    "## 7 tree   30      FALSE  \n",
    "## 8 tree   35      FALSE  "
   ]
  },
  {
   "cell_type": "code",
   "execution_count": null,
   "metadata": {},
   "outputs": [
    {
     "name": "stderr",
     "output_type": "stream",
     "text": [
      "Warning message in Ops.factor(x$winnow):\n",
      "“‘!’ not meaningful for factors”"
     ]
    },
    {
     "data": {
      "text/plain": [
       "C5.0 \n",
       "\n",
       "1000 samples\n",
       "  20 predictor\n",
       "   2 classes: 'No', 'Yes' \n",
       "\n",
       "No pre-processing\n",
       "Resampling: Cross-Validated (10 fold) \n",
       "Summary of sample sizes: 900, 900, 900, 900, 900, 900, ... \n",
       "Resampling results across tuning parameters:\n",
       "\n",
       "  trials  Accuracy  Kappa    \n",
       "   1      0.714     0.2918834\n",
       "   5      0.735     0.3401066\n",
       "  10      0.747     0.3504832\n",
       "  15      0.749     0.3642719\n",
       "  20      0.755     0.3641425\n",
       "  25      0.749     0.3521465\n",
       "  30      0.744     0.3445306\n",
       "  35      0.745     0.3517542\n",
       "\n",
       "Tuning parameter 'model' was held constant at a value of tree\n",
       "Tuning\n",
       " parameter 'winnow' was held constant at a value of FALSE\n",
       "Kappa was used to select the optimal model using  the one SE rule.\n",
       "The final values used for the model were trials = 5, model = tree and winnow\n",
       " = FALSE."
      ]
     },
     "metadata": {},
     "output_type": "display_data"
    }
   ],
   "source": [
    "## Se llama a `train()` con los valores \n",
    "## suministrados para la búsqueda.\n",
    "## set.seed(300)\n",
    "## m <- train(default ~ .,      # todas las variables\n",
    "##            data = credit,    # dataset\n",
    "##            method = \"C5.0\",  #\n",
    "##            metric = \"Kappa\", #\n",
    "##            trControl = ctrl, #\n",
    "##            tuneGrid = grid)  #\n",
    "## m\n",
    "\n",
    "## Warning message in Ops.factor(x$winnow):\n",
    "## “‘!’ not meaningful for factors”"
   ]
  },
  {
   "cell_type": "markdown",
   "metadata": {},
   "source": [
    "**Ejercicio.--** Cuál de las dos búsquedas produjo el mejor modelo."
   ]
  },
  {
   "cell_type": "markdown",
   "metadata": {},
   "source": [
    "---"
   ]
  },
  {
   "cell_type": "markdown",
   "metadata": {},
   "source": [
    "Mejora del desempeño de los modelos\n",
    "===\n",
    "\n",
    "**Juan David Velásquez Henao**  \n",
    "jdvelasq@unal.edu.co   \n",
    "Universidad Nacional de Colombia, Sede Medellín  \n",
    "Facultad de Minas  \n",
    "Medellín, Colombia\n",
    "\n",
    "---\n",
    "\n",
    "Haga click [aquí](https://github.com/jdvelasq/predictive-analytics/blob/master/19-R-improving-model-performance.ipynb) para acceder a la última versión online.\n",
    "\n",
    "Haga click [aquí](http://nbviewer.jupyter.org/github/jdvelasq/predictive-analytics/blob/master/19-R-improving-model-performance.ipynb) para ver la última versión online en `nbviewer`. \n",
    "\n",
    "---\n",
    "[Licencia](https://github.com/jdvelasq/predictive-analytics/blob/master/LICENSE)  \n",
    "[Readme](https://github.com/jdvelasq/predictive-analytics/blob/master/readme.md)"
   ]
  }
 ],
 "metadata": {
  "kernel_info": {
   "name": "python3"
  },
  "kernelspec": {
   "display_name": "Python 3",
   "language": "python",
   "name": "python3"
  },
  "language_info": {
   "codemirror_mode": {
    "name": "ipython",
    "version": 3
   },
   "file_extension": ".py",
   "mimetype": "text/x-python",
   "name": "python",
   "nbconvert_exporter": "python",
   "pygments_lexer": "ipython3",
   "version": "3.6.3"
  },
  "nteract": {
   "version": "0.7.1"
  }
 },
 "nbformat": 4,
 "nbformat_minor": 2
}
