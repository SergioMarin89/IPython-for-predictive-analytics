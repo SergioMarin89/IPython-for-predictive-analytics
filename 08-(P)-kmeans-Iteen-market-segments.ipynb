{
 "cells": [
  {
   "cell_type": "markdown",
   "metadata": {},
   "source": [
    "Segmentación del mercado de adolecentes (scikit-learn)\n",
    "===\n",
    "\n",
    "**Juan David Velásquez Henao**  \n",
    "jdvelasq@unal.edu.co   \n",
    "Universidad Nacional de Colombia, Sede Medellín  \n",
    "Facultad de Minas  \n",
    "Medellín, Colombia\n",
    "\n",
    "---\n",
    "\n",
    "Haga click [aquí](https://github.com/jdvelasq/predictive-analytics/blob/master/12-kmeans-IPy-teen-market-segments.ipynb) para acceder a la última versión online.\n",
    "\n",
    "Haga click [aquí](http://nbviewer.jupyter.org/github/jdvelasq/predictive-analytics/blob/master/12-kmeans-kmeans-teen-market-segments.ipynb) para ver la última versión online en `nbviewer`. \n",
    "\n",
    "---\n",
    "[Licencia](https://github.com/jdvelasq/predictive-analytics/blob/master/LICENSE)  \n",
    "[Readme](https://github.com/jdvelasq/predictive-analytics/blob/master/readme.md)"
   ]
  },
  {
   "cell_type": "code",
   "execution_count": null,
   "metadata": {},
   "outputs": [],
   "source": [
    "#\n",
    "# Lee el archivo. La función readlines() retorna una \n",
    "# una lista de strings donde cada string es una linea\n",
    "# del archivo original.\n",
    "#\n",
    "teens = open('data/snsdata.csv').readlines()\n",
    "#\n",
    "# Convierte cada linea en una lista de strings, \n",
    "# partiendo la línea original por las comas.\n",
    "#\n",
    "teens = [x.split(',') for x in teens]\n",
    "#\n",
    "# Imprime los nombres de las columnas\n",
    "#\n",
    "teens[0]"
   ]
  },
  {
   "cell_type": "code",
   "execution_count": null,
   "metadata": {},
   "outputs": [],
   "source": [
    "# table(teens$gender)\n",
    "#     F     M \n",
    "# 22054  5222"
   ]
  },
  {
   "cell_type": "code",
   "execution_count": null,
   "metadata": {},
   "outputs": [],
   "source": [
    "# La función excluye los NA\n",
    "# a continuación se tienen en cuenta en el conteo\n",
    "# table(teens$gender, useNA = \"ifany\")"
   ]
  },
  {
   "cell_type": "code",
   "execution_count": null,
   "metadata": {},
   "outputs": [],
   "source": [
    "# La muestra contiene un rango de edades \n",
    "# por fuera de la población de interés\n",
    "# summary(teens$age)\n",
    "#\n",
    "#   Min. 1st Qu.  Median    Mean 3rd Qu.    Max.    NA's \n",
    "#  3.086  16.312  17.287  17.994  18.259 106.927    5086 \n",
    "#\n"
   ]
  },
  {
   "cell_type": "code",
   "execution_count": null,
   "metadata": {
    "collapsed": true
   },
   "outputs": [],
   "source": [
    "# Se seleccionan las personas entre 13 y 20 años.\n",
    "# teens$age <- ifelse(teens$age >= 13 & teens$age < 20, teens$age, NA)\n"
   ]
  },
  {
   "cell_type": "code",
   "execution_count": null,
   "metadata": {},
   "outputs": [],
   "source": [
    "# Se verifica la variable edad en los registros de las\n",
    "# personas en la población de interés.\n",
    "# summary(teens$age)\n",
    "#\n",
    "#   Min. 1st Qu.  Median    Mean 3rd Qu.    Max.    NA's \n",
    "#  13.03   16.30   17.27   17.25   18.22   20.00    5523\n",
    "#"
   ]
  },
  {
   "cell_type": "code",
   "execution_count": null,
   "metadata": {
    "collapsed": true
   },
   "outputs": [],
   "source": [
    "# Se crean nuevas variables numéricas a partir \n",
    "# de información categórica\n",
    "# teens$female <- ifelse(teens$gender == \"F\" & !is.na(teens$gender), 1, 0)\n",
    "# teens$no_gender <- ifelse(is.na(teens$gender), 1, 0)"
   ]
  },
  {
   "cell_type": "code",
   "execution_count": null,
   "metadata": {},
   "outputs": [],
   "source": [
    "# Cantidad de hombres y mujeres en la muestra.\n",
    "# table(teens$gender, useNA = \"ifany\")\n",
    "#\n",
    "#     F     M  <NA> \n",
    "# 22054  5222  2724 \n",
    "#"
   ]
  },
  {
   "cell_type": "code",
   "execution_count": null,
   "metadata": {},
   "outputs": [],
   "source": [
    "# Cantidad de hombres y mujeres en la muestra\n",
    "# 1=Female\n",
    "# table(teens$female, useNA = \"ifany\")\n",
    "#\n",
    "#    0     1 \n",
    "# 7946 22054 \n",
    "#\n"
   ]
  },
  {
   "cell_type": "code",
   "execution_count": null,
   "metadata": {},
   "outputs": [],
   "source": [
    "# Cantidad de patrones para los que se \n",
    "# conoce y no se conoce el genero\n",
    "# table(teens$no_gender, useNA = \"ifany\")"
   ]
  },
  {
   "cell_type": "code",
   "execution_count": null,
   "metadata": {},
   "outputs": [],
   "source": [
    "# La muestra contiene datos faltantes\n",
    "# mean(teens$age)"
   ]
  },
  {
   "cell_type": "code",
   "execution_count": null,
   "metadata": {},
   "outputs": [],
   "source": [
    "# Edad sin tener en cuenta los datos faltantes\n",
    "# mean(teens$age, na.rm = TRUE)\n",
    "#\n",
    "# 17.2524289332843"
   ]
  },
  {
   "cell_type": "code",
   "execution_count": null,
   "metadata": {},
   "outputs": [],
   "source": [
    "# Edad por año de graduación\n",
    "# aggregate(data = teens, age ~ gradyear, mean, na.rm = TRUE)\n",
    "#\n",
    "# gradyear      age\n",
    "#     2006 18.65586\n",
    "#     2007 17.70617\n",
    "#     2008 16.76770\n",
    "#     2009 15.81957\n",
    "#"
   ]
  },
  {
   "cell_type": "code",
   "execution_count": null,
   "metadata": {},
   "outputs": [],
   "source": [
    "# Los valores faltantes se llenan con el promedio\n",
    "# de acuerdo con el año de graduación\n",
    "# ave_age <- ave(teens$age, \n",
    "#               teens$gradyear, \n",
    "#               FUN = function(x) mean(x, na.rm = TRUE))\n",
    "#                   \n",
    "# teens$age <- ifelse(is.na(teens$age), ave_age, teens$age)\n",
    "# summary(teens$age)"
   ]
  },
  {
   "cell_type": "code",
   "execution_count": null,
   "metadata": {
    "collapsed": true
   },
   "outputs": [],
   "source": [
    "#\n",
    "# Se separa la información de las palabras relacionadas\n",
    "# con los intereses del resto de la información\n",
    "# y se escala para eliminar problemas asociados\n",
    "# a la medida de los datos.\n",
    "#\n",
    "# interests <- teens[5:40]\n",
    "# interests_z <- as.data.frame(lapply(interests, scale))"
   ]
  },
  {
   "cell_type": "code",
   "execution_count": null,
   "metadata": {
    "collapsed": true
   },
   "outputs": [],
   "source": [
    "#\n",
    "# Se usa el algoritmo para determinar los centros de 5 grupos\n",
    "#\n",
    "# set.seed(2345)\n",
    "# teen_clusters <- kmeans(interests_z, 5)\n",
    "# "
   ]
  },
  {
   "cell_type": "code",
   "execution_count": null,
   "metadata": {},
   "outputs": [],
   "source": [
    "# Número de ejemplos en cada cluster\n",
    "# teen_clusters$size\n",
    "#\n",
    "# 871 600 5981 1034 21514\n",
    "#"
   ]
  },
  {
   "cell_type": "code",
   "execution_count": null,
   "metadata": {},
   "outputs": [],
   "source": [
    "#\n",
    "# Frecuencia de las palabras en cada cluster\n",
    "# teen_clusters$centers\n",
    "#"
   ]
  },
  {
   "cell_type": "code",
   "execution_count": null,
   "metadata": {
    "collapsed": true
   },
   "outputs": [],
   "source": [
    "# Se asigna a cada ejemplo de los datos\n",
    "# el cluster al que pertenece\n",
    "# teens$cluster <- teen_clusters$cluster"
   ]
  },
  {
   "cell_type": "code",
   "execution_count": null,
   "metadata": {},
   "outputs": [],
   "source": [
    "# clusters a los que pertenecen los primeros cinco patrones\n",
    "# teens[1:5, c(\"cluster\", \"gender\", \"age\", \"friends\")]\n",
    "# \n",
    "# cluster gender    age friends\n",
    "#       5      M 18.982       7\n",
    "#       3      F 18.801       0\n",
    "#       5      M 18.335      69\n",
    "#       5      F 18.875       0\n",
    "#       4     NA 18.995      10\n",
    "# "
   ]
  },
  {
   "cell_type": "code",
   "execution_count": null,
   "metadata": {},
   "outputs": [],
   "source": [
    "# Características demográficas de los clusters\n",
    "# aggregate(data = teens, age ~ cluster, mean)\n",
    "#\n",
    "# cluster      age\n",
    "#       1 16.86497\n",
    "#       2 17.39037\n",
    "#       3 17.07656\n",
    "#       4 17.11957\n",
    "#       5 17.29849\n",
    "#"
   ]
  },
  {
   "cell_type": "code",
   "execution_count": null,
   "metadata": {},
   "outputs": [],
   "source": [
    "# aggregate(data = teens, female ~ cluster, mean)\n",
    "#\n",
    "# cluster\tfemale\n",
    "#       1 0.8381171\n",
    "#       2 0.7250000\n",
    "#       3 0.8378198\n",
    "#       4 0.8027079\n",
    "#       5 0.6994515\n",
    "#"
   ]
  },
  {
   "cell_type": "code",
   "execution_count": null,
   "metadata": {
    "scrolled": true
   },
   "outputs": [],
   "source": [
    "# Cantidad promedio de amigos por cluster\n",
    "# aggregate(data = teens, friends ~ cluster, mean)\n",
    "#\n",
    "# cluster  friends\n",
    "#       1 41.43054\n",
    "#       2 32.57333\n",
    "#       3 37.16185\n",
    "#       4 30.50290\n",
    "#       5 27.70052\n",
    "#"
   ]
  },
  {
   "cell_type": "markdown",
   "metadata": {},
   "source": [
    "---"
   ]
  },
  {
   "cell_type": "markdown",
   "metadata": {},
   "source": [
    "Segmentación del mercado de adolecentes (scikit-learn)\n",
    "===\n",
    "\n",
    "**Juan David Velásquez Henao**  \n",
    "jdvelasq@unal.edu.co   \n",
    "Universidad Nacional de Colombia, Sede Medellín  \n",
    "Facultad de Minas  \n",
    "Medellín, Colombia\n",
    "\n",
    "---\n",
    "\n",
    "Haga click [aquí](https://github.com/jdvelasq/predictive-analytics/blob/master/12-kmeans-IPy-teen-market-segments.ipynb) para acceder a la última versión online.\n",
    "\n",
    "Haga click [aquí](http://nbviewer.jupyter.org/github/jdvelasq/predictive-analytics/blob/master/12-kmeans-kmeans-teen-market-segments.ipynb) para ver la última versión online en `nbviewer`. \n",
    "\n",
    "---\n",
    "[Licencia](https://github.com/jdvelasq/predictive-analytics/blob/master/LICENSE)  \n",
    "[Readme](https://github.com/jdvelasq/predictive-analytics/blob/master/readme.md)"
   ]
  }
 ],
 "metadata": {
  "kernel_info": {
   "name": "python3"
  },
  "kernelspec": {
   "display_name": "Python 3",
   "language": "python",
   "name": "python3"
  },
  "language_info": {
   "codemirror_mode": {
    "name": "ipython",
    "version": 3
   },
   "file_extension": ".py",
   "mimetype": "text/x-python",
   "name": "python",
   "nbconvert_exporter": "python",
   "pygments_lexer": "ipython3",
   "version": "3.6.3"
  },
  "nteract": {
   "version": "0.7.1"
  }
 },
 "nbformat": 4,
 "nbformat_minor": 2
}
