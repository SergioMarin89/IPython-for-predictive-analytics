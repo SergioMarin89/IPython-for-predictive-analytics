{
 "cells": [
  {
   "cell_type": "markdown",
   "metadata": {},
   "source": [
    "Pronóstico de la popularidad de libros (scikit-learn)\n",
    "===\n",
    "\n",
    "**Juan David Velásquez Henao**  \n",
    "jdvelasq@unal.edu.co   \n",
    "Universidad Nacional de Colombia, Sede Medellín  \n",
    "Facultad de Minas  \n",
    "Medellín, Colombia\n",
    "\n",
    "---\n",
    "\n",
    "Haga click [aquí](https://github.com/jdvelasq/IPython-for-predictive-analytics/blob/master/07-logreg-Ibooks.ipynb) para acceder a la última versión online.\n",
    "\n",
    "Haga click [aquí](http://nbviewer.jupyter.org/github/jdvelasq/IPython-for-predictive-analytics/blob/master/07-logreg-Ibooks.ipynb) para ver la última versión online en `nbviewer`. \n",
    "\n",
    "---\n",
    "[Licencia](https://github.com/jdvelasq/IPython-for-predictive-analytics/blob/master/LICENSE)  \n",
    "[Readme](https://github.com/jdvelasq/IPython-for-predictive-analytics/blob/master/readme.md)"
   ]
  },
  {
   "cell_type": "code",
   "execution_count": 5,
   "metadata": {},
   "outputs": [
    {
     "data": {
      "text/html": [
       "<div>\n",
       "<style scoped>\n",
       "    .dataframe tbody tr th:only-of-type {\n",
       "        vertical-align: middle;\n",
       "    }\n",
       "\n",
       "    .dataframe tbody tr th {\n",
       "        vertical-align: top;\n",
       "    }\n",
       "\n",
       "    .dataframe thead th {\n",
       "        text-align: right;\n",
       "    }\n",
       "</style>\n",
       "<table border=\"1\" class=\"dataframe\">\n",
       "  <thead>\n",
       "    <tr style=\"text-align: right;\">\n",
       "      <th></th>\n",
       "      <th>IP_Family</th>\n",
       "      <th>BOOK title</th>\n",
       "      <th>BOOK ISBN</th>\n",
       "      <th>Rank</th>\n",
       "      <th>Long Desc.</th>\n",
       "    </tr>\n",
       "  </thead>\n",
       "  <tbody>\n",
       "    <tr>\n",
       "      <th>0</th>\n",
       "      <td>9780596000271.IP</td>\n",
       "      <td>Programming Perl, 3E</td>\n",
       "      <td>9780596000271</td>\n",
       "      <td>1</td>\n",
       "      <td>Perl is a powerful programming language that  ...</td>\n",
       "    </tr>\n",
       "    <tr>\n",
       "      <th>1</th>\n",
       "      <td>9781565923928.IP</td>\n",
       "      <td>Javascript: The Definitive Guide, 3E</td>\n",
       "      <td>9781565923928</td>\n",
       "      <td>2</td>\n",
       "      <td>JavaScript is a powerful scripting language th...</td>\n",
       "    </tr>\n",
       "    <tr>\n",
       "      <th>2</th>\n",
       "      <td>9780596007126.IP</td>\n",
       "      <td>Head First Design Patterns</td>\n",
       "      <td>9780596007126</td>\n",
       "      <td>3</td>\n",
       "      <td>You're not alone.&lt;br /&gt;\\r&lt;br /&gt;\\rAt any given ...</td>\n",
       "    </tr>\n",
       "    <tr>\n",
       "      <th>3</th>\n",
       "      <td>9780596009205.IP</td>\n",
       "      <td>Head First Java, 2E</td>\n",
       "      <td>9780596009205</td>\n",
       "      <td>4</td>\n",
       "      <td>Learning a complex new language is no easy tas...</td>\n",
       "    </tr>\n",
       "    <tr>\n",
       "      <th>4</th>\n",
       "      <td>9780596529529.IP</td>\n",
       "      <td>Mac OS X Leopard: The Missing Manual</td>\n",
       "      <td>9780596529529</td>\n",
       "      <td>5</td>\n",
       "      <td>With Leopard, Apple has unleashed the greatest...</td>\n",
       "    </tr>\n",
       "  </tbody>\n",
       "</table>\n",
       "</div>"
      ],
      "text/plain": [
       "          IP_Family                            BOOK title      BOOK ISBN  \\\n",
       "0  9780596000271.IP                  Programming Perl, 3E  9780596000271   \n",
       "1  9781565923928.IP  Javascript: The Definitive Guide, 3E  9781565923928   \n",
       "2  9780596007126.IP            Head First Design Patterns  9780596007126   \n",
       "3  9780596009205.IP                   Head First Java, 2E  9780596009205   \n",
       "4  9780596529529.IP  Mac OS X Leopard: The Missing Manual  9780596529529   \n",
       "\n",
       "   Rank                                         Long Desc.  \n",
       "0     1  Perl is a powerful programming language that  ...  \n",
       "1     2  JavaScript is a powerful scripting language th...  \n",
       "2     3  You're not alone.<br />\\r<br />\\rAt any given ...  \n",
       "3     4  Learning a complex new language is no easy tas...  \n",
       "4     5  With Leopard, Apple has unleashed the greatest...  "
      ]
     },
     "execution_count": 5,
     "metadata": {},
     "output_type": "execute_result"
    }
   ],
   "source": [
    "##\n",
    "## Lee el archivo. \n",
    "##\n",
    "import pandas as pd\n",
    "data = pd.read_csv('data/oreilly.csv', encoding='latin-1')\n",
    "\n",
    "##\n",
    "## Verifica la lectura de los datos\n",
    "##\n",
    "data.head()"
   ]
  },
  {
   "cell_type": "code",
   "execution_count": 6,
   "metadata": {},
   "outputs": [
    {
     "data": {
      "text/plain": [
       "(100, 636)"
      ]
     },
     "execution_count": 6,
     "metadata": {},
     "output_type": "execute_result"
    }
   ],
   "source": [
    "##\n",
    "## Matriz de términos del documento\n",
    "##\n",
    "from sklearn.feature_extraction.text import CountVectorizer\n",
    "from sklearn.feature_extraction.text import TfidfVectorizer\n",
    "\n",
    "count_vect = CountVectorizer(analyzer='word',        # a nivel de palabra\n",
    "                             lowercase=True,         # convierte a minúsculas\n",
    "                             stop_words='english',   # stop_words en inglés\n",
    "                             min_df=5)               # ignora palabras con baja freq\n",
    "\n",
    "##\n",
    "## Aplica la función al texto\n",
    "##\n",
    "data_dtm = count_vect.fit_transform(data['Long Desc.'])\n",
    "\n",
    "##\n",
    "## Las filas contienen los mensajes\n",
    "## y las clomunas los términos\n",
    "##\n",
    "data_dtm.shape"
   ]
  },
  {
   "cell_type": "code",
   "execution_count": 9,
   "metadata": {},
   "outputs": [
    {
     "data": {
      "text/plain": [
       "array([[0, 0, 0, ..., 0, 0, 0],\n",
       "       [0, 0, 0, ..., 0, 0, 0],\n",
       "       [0, 0, 0, ..., 0, 0, 0],\n",
       "       ...,\n",
       "       [0, 0, 1, ..., 2, 0, 1],\n",
       "       [0, 0, 0, ..., 1, 0, 0],\n",
       "       [0, 0, 0, ..., 0, 0, 0]], dtype=int64)"
      ]
     },
     "execution_count": 9,
     "metadata": {},
     "output_type": "execute_result"
    }
   ],
   "source": [
    "X = data_dtm.toarray()\n",
    "X"
   ]
  },
  {
   "cell_type": "code",
   "execution_count": 18,
   "metadata": {},
   "outputs": [],
   "source": [
    "y = [1] * 50 + [0]*50"
   ]
  },
  {
   "cell_type": "code",
   "execution_count": 19,
   "metadata": {},
   "outputs": [
    {
     "data": {
      "text/plain": [
       "LogisticRegression(C=1.0, class_weight=None, dual=False, fit_intercept=True,\n",
       "          intercept_scaling=1, max_iter=100, multi_class='ovr', n_jobs=1,\n",
       "          penalty='l2', random_state=None, solver='liblinear', tol=0.0001,\n",
       "          verbose=0, warm_start=False)"
      ]
     },
     "execution_count": 19,
     "metadata": {},
     "output_type": "execute_result"
    }
   ],
   "source": [
    "from sklearn.linear_model import LogisticRegression\n",
    "\n",
    "clf = LogisticRegression()\n",
    "clf.fit(X, y)\n",
    "clf"
   ]
  },
  {
   "cell_type": "code",
   "execution_count": 20,
   "metadata": {},
   "outputs": [
    {
     "data": {
      "text/plain": [
       "1.0"
      ]
     },
     "execution_count": 20,
     "metadata": {},
     "output_type": "execute_result"
    }
   ],
   "source": [
    "clf.score(X, y)"
   ]
  },
  {
   "cell_type": "markdown",
   "metadata": {},
   "source": [
    "---"
   ]
  },
  {
   "cell_type": "markdown",
   "metadata": {},
   "source": [
    "Pronóstico de la popularidad de libros (scikit-learn)\n",
    "===\n",
    "\n",
    "**Juan David Velásquez Henao**  \n",
    "jdvelasq@unal.edu.co   \n",
    "Universidad Nacional de Colombia, Sede Medellín  \n",
    "Facultad de Minas  \n",
    "Medellín, Colombia\n",
    "\n",
    "---\n",
    "\n",
    "Haga click [aquí](https://github.com/jdvelasq/IPython-for-predictive-analytics/blob/master/07-logreg-Ibooks.ipynb) para acceder a la última versión online.\n",
    "\n",
    "Haga click [aquí](http://nbviewer.jupyter.org/github/jdvelasq/IPython-for-predictive-analytics/blob/master/07-logreg-Ibooks.ipynb) para ver la última versión online en `nbviewer`. \n",
    "\n",
    "---\n",
    "[Licencia](https://github.com/jdvelasq/IPython-for-predictive-analytics/blob/master/LICENSE)  \n",
    "[Readme](https://github.com/jdvelasq/IPython-for-predictive-analytics/blob/master/readme.md)"
   ]
  }
 ],
 "metadata": {
  "kernel_info": {
   "name": "python3"
  },
  "kernelspec": {
   "display_name": "Python 3",
   "language": "python",
   "name": "python3"
  },
  "language_info": {
   "codemirror_mode": {
    "name": "ipython",
    "version": 3
   },
   "file_extension": ".py",
   "mimetype": "text/x-python",
   "name": "python",
   "nbconvert_exporter": "python",
   "pygments_lexer": "ipython3",
   "version": "3.6.3"
  },
  "nteract": {
   "version": "0.7.1"
  }
 },
 "nbformat": 4,
 "nbformat_minor": 2
}
