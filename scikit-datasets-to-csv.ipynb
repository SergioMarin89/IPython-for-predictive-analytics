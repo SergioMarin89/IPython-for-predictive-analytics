{
 "cells": [
  {
   "cell_type": "code",
   "execution_count": 2,
   "metadata": {},
   "outputs": [],
   "source": [
    "from sklearn import datasets\n",
    "import pandas as pd"
   ]
  },
  {
   "cell_type": "code",
   "execution_count": 3,
   "metadata": {},
   "outputs": [],
   "source": [
    "#\n",
    "# data directories\n",
    "# \n",
    "datadirs = ['data/', \n",
    "        '../R-for-predictive-analytics/data/']"
   ]
  },
  {
   "cell_type": "code",
   "execution_count": 17,
   "metadata": {},
   "outputs": [
    {
     "name": "stdout",
     "output_type": "stream",
     "text": [
      "        age       sex       bmi        bp        s1        s2        s3  \\\n",
      "0  0.038076  0.050680  0.061696  0.021872 -0.044223 -0.034821 -0.043401   \n",
      "1 -0.001882 -0.044642 -0.051474 -0.026328 -0.008449 -0.019163  0.074412   \n",
      "2  0.085299  0.050680  0.044451 -0.005671 -0.045599 -0.034194 -0.032356   \n",
      "3 -0.089063 -0.044642 -0.011595 -0.036656  0.012191  0.024991 -0.036038   \n",
      "4  0.005383 -0.044642 -0.036385  0.021872  0.003935  0.015596  0.008142   \n",
      "\n",
      "         s4        s5        s6      Y  \n",
      "0 -0.002592  0.019908 -0.017646  151.0  \n",
      "1 -0.039493 -0.068330 -0.092204   75.0  \n",
      "2 -0.002592  0.002864 -0.025930  141.0  \n",
      "3  0.034309  0.022692 -0.009362  206.0  \n",
      "4 -0.002592 -0.031991 -0.046641  135.0  \n"
     ]
    }
   ],
   "source": [
    "#\n",
    "# (ok) Diabetes dataset\n",
    "#\n",
    "ds = datasets.load_diabetes()\n",
    "df = pd.DataFrame(ds.data, columns=ds.feature_names)\n",
    "df['Y'] = ds.target\n",
    "#\n",
    "print(df.head())\n",
    "for datadir in datadirs:\n",
    "    df.to_csv(datadir + 'diabetes.csv', index=False)"
   ]
  },
  {
   "cell_type": "code",
   "execution_count": 18,
   "metadata": {},
   "outputs": [
    {
     "name": "stdout",
     "output_type": "stream",
     "text": [
      "                                                text              newsgroup\n",
      "0  From: lerxst@wam.umd.edu (where's my thing)\\nS...              rec.autos\n",
      "1  From: guykuo@carson.u.washington.edu (Guy Kuo)...  comp.sys.mac.hardware\n",
      "2  From: twillis@ec.ecn.purdue.edu (Thomas E Will...  comp.sys.mac.hardware\n",
      "3  From: jgreen@amber (Joe Green)\\nSubject: Re: W...          comp.graphics\n",
      "4  From: jcm@head-cfa.harvard.edu (Jonathan McDow...              sci.space\n"
     ]
    }
   ],
   "source": [
    "#\n",
    "# (ok) Twenty newsgroups dataset\n",
    "#\n",
    "from sklearn.datasets import fetch_20newsgroups\n",
    "ds = fetch_20newsgroups()\n",
    "df = pd.DataFrame(ds.data, columns=[\"text\"])\n",
    "df['newsgroup'] = [ds.target_names[i] for i in ds.target]\n",
    "#\n",
    "print(df.head())\n",
    "for datadir in datadirs:\n",
    "    df.to_csv(datadir + '20newsgroups.csv', index=False)"
   ]
  },
  {
   "cell_type": "code",
   "execution_count": 41,
   "metadata": {},
   "outputs": [],
   "source": [
    "#\n",
    "# (ok) Olivetti faces\n",
    "#\n",
    "from sklearn.datasets import fetch_olivetti_faces\n",
    "ds = fetch_olivetti_faces()\n",
    "data = [\",\".join([str(y) for y in x]) for x in ds.data]\n",
    "df = pd.DataFrame(data, columns=[\"data\"])\n",
    "df['target'] = ds.target\n",
    "#\n",
    "#print(df.head())\n",
    "for datadir in datadirs:\n",
    "    df.to_csv(datadir + 'olivetti-faces.csv', index=False)"
   ]
  },
  {
   "cell_type": "code",
   "execution_count": null,
   "metadata": {},
   "outputs": [],
   "source": []
  }
 ],
 "metadata": {
  "kernelspec": {
   "display_name": "Python 3",
   "language": "python",
   "name": "python3"
  },
  "language_info": {
   "codemirror_mode": {
    "name": "ipython",
    "version": 3
   },
   "file_extension": ".py",
   "mimetype": "text/x-python",
   "name": "python",
   "nbconvert_exporter": "python",
   "pygments_lexer": "ipython3",
   "version": "3.6.3"
  }
 },
 "nbformat": 4,
 "nbformat_minor": 2
}
