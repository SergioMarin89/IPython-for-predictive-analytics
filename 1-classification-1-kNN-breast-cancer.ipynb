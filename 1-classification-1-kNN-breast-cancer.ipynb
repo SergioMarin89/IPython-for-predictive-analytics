{
 "cells": [
  {
   "cell_type": "markdown",
   "metadata": {},
   "source": [
    "Diagnóstico del cáncer de mama (scikit-learn)\n",
    "===\n",
    "\n",
    "**Juan David Velásquez Henao**  \n",
    "jdvelasq@unal.edu.co   \n",
    "Universidad Nacional de Colombia, Sede Medellín  \n",
    "Facultad de Minas  \n",
    "Medellín, Colombia\n",
    "\n",
    "---\n",
    "\n",
    "Haga click [aquí](https://github.com/jdvelasq/IPython-for-predictive-analytics/blob/master/01-kNN-breast-cancer.ipynb) para acceder a la última versión online.\n",
    "\n",
    "Haga click [aquí](http://nbviewer.jupyter.org/github/jdvelasq/IPython-for-predictive-analytics/blob/master/01-kNN-breast-cancer.ipynb) para ver la última versión online en `nbviewer`. \n",
    "\n",
    "---\n",
    "[Licencia](https://github.com/jdvelasq/IPython-for-predictive-analytics/blob/master/LICENSE)  \n",
    "[Readme](https://github.com/jdvelasq/IPython-for-predictive-analytics/blob/master/readme.md)"
   ]
  },
  {
   "cell_type": "code",
   "execution_count": 2,
   "metadata": {},
   "outputs": [
    {
     "data": {
      "text/plain": [
       "['\"id\"',\n",
       " '\"diagnosis\"',\n",
       " '\"radius_mean\"',\n",
       " '\"texture_mean\"',\n",
       " '\"perimeter_mean\"',\n",
       " '\"area_mean\"',\n",
       " '\"smoothness_mean\"',\n",
       " '\"compactness_mean\"',\n",
       " '\"concavity_mean\"',\n",
       " '\"concave points_mean\"',\n",
       " '\"symmetry_mean\"',\n",
       " '\"fractal_dimension_mean\"',\n",
       " '\"radius_se\"',\n",
       " '\"texture_se\"',\n",
       " '\"perimeter_se\"',\n",
       " '\"area_se\"',\n",
       " '\"smoothness_se\"',\n",
       " '\"compactness_se\"',\n",
       " '\"concavity_se\"',\n",
       " '\"concave points_se\"',\n",
       " '\"symmetry_se\"',\n",
       " '\"fractal_dimension_se\"',\n",
       " '\"radius_worst\"',\n",
       " '\"texture_worst\"',\n",
       " '\"perimeter_worst\"',\n",
       " '\"area_worst\"',\n",
       " '\"smoothness_worst\"',\n",
       " '\"compactness_worst\"',\n",
       " '\"concavity_worst\"',\n",
       " '\"concave points_worst\"',\n",
       " '\"symmetry_worst\"',\n",
       " '\"fractal_dimension_worst\"\\n']"
      ]
     },
     "execution_count": 2,
     "metadata": {},
     "output_type": "execute_result"
    }
   ],
   "source": [
    "## Lee el archivo. La función readlines() retorna una \n",
    "## una lista de strings donde cada string es una linea\n",
    "## del archivo original.\n",
    "wbcd = open('data/wisc_bc_data.csv').readlines()\n",
    "\n",
    "## Convierte cada linea en una lista de strings, \n",
    "## partiendo la línea original por las comas.\n",
    "wbcd = [x.split(',') for x in wbcd]\n",
    "\n",
    "## Imprime los nombres de las columnas\n",
    "wbcd[0]"
   ]
  },
  {
   "cell_type": "code",
   "execution_count": 3,
   "metadata": {},
   "outputs": [
    {
     "data": {
      "text/plain": [
       "['17.99',\n",
       " '10.38',\n",
       " '122.8',\n",
       " '1001',\n",
       " '0.1184',\n",
       " '0.2776',\n",
       " '0.3001',\n",
       " '0.1471',\n",
       " '0.2419',\n",
       " '0.07871',\n",
       " '1.095',\n",
       " '0.9053',\n",
       " '8.589',\n",
       " '153.4',\n",
       " '0.006399',\n",
       " '0.04904',\n",
       " '0.05373',\n",
       " '0.01587',\n",
       " '0.03003',\n",
       " '0.006193',\n",
       " '25.38',\n",
       " '17.33',\n",
       " '184.6',\n",
       " '2019',\n",
       " '0.1622',\n",
       " '0.6656',\n",
       " '0.7119',\n",
       " '0.2654',\n",
       " '0.4601',\n",
       " '0.1189\\n']"
      ]
     },
     "execution_count": 3,
     "metadata": {},
     "output_type": "execute_result"
    }
   ],
   "source": [
    "## Elimina la primera fila\n",
    "wbcd = wbcd[1:]\n",
    "\n",
    "## Extrae la columna diagnosis que es la \n",
    "## variable de salida (columna 1)\n",
    "wbcd_diagnosis = [x[1] for x in wbcd]\n",
    "\n",
    "## Elimina las columnas 0 (id) y 1 (diagnosis)\n",
    "## de los datos originales\n",
    "wbcd_data = [x[2:] for x in wbcd]\n",
    "wbcd_data[0]"
   ]
  },
  {
   "cell_type": "code",
   "execution_count": 4,
   "metadata": {},
   "outputs": [
    {
     "data": {
      "text/plain": [
       "[17.99,\n",
       " 10.38,\n",
       " 122.8,\n",
       " 1001.0,\n",
       " 0.1184,\n",
       " 0.2776,\n",
       " 0.3001,\n",
       " 0.1471,\n",
       " 0.2419,\n",
       " 0.07871,\n",
       " 1.095,\n",
       " 0.9053,\n",
       " 8.589,\n",
       " 153.4,\n",
       " 0.006399,\n",
       " 0.04904,\n",
       " 0.05373,\n",
       " 0.01587,\n",
       " 0.03003,\n",
       " 0.006193,\n",
       " 25.38,\n",
       " 17.33,\n",
       " 184.6,\n",
       " 2019.0,\n",
       " 0.1622,\n",
       " 0.6656,\n",
       " 0.7119,\n",
       " 0.2654,\n",
       " 0.4601,\n",
       " 0.1189]"
      ]
     },
     "execution_count": 4,
     "metadata": {},
     "output_type": "execute_result"
    }
   ],
   "source": [
    "## Convierte los strings a números.\n",
    "wbcd_data = [[float(y) for y in x] for x in wbcd_data]\n",
    "wbcd_data[0]"
   ]
  },
  {
   "cell_type": "code",
   "execution_count": 5,
   "metadata": {},
   "outputs": [
    {
     "data": {
      "text/plain": [
       "array([[0.52103744, 0.0226581 , 0.54598853, ..., 0.91202749, 0.59846245,\n",
       "        0.41886396],\n",
       "       [0.64314449, 0.27257355, 0.61578329, ..., 0.63917526, 0.23358959,\n",
       "        0.22287813],\n",
       "       [0.60149557, 0.3902604 , 0.59574321, ..., 0.83505155, 0.40370589,\n",
       "        0.21343303],\n",
       "       ...,\n",
       "       [0.45525108, 0.62123774, 0.44578813, ..., 0.48728522, 0.12872068,\n",
       "        0.1519087 ],\n",
       "       [0.64456434, 0.66351031, 0.66553797, ..., 0.91065292, 0.49714173,\n",
       "        0.45231536],\n",
       "       [0.03686876, 0.50152181, 0.02853984, ..., 0.        , 0.25744136,\n",
       "        0.10068215]])"
      ]
     },
     "execution_count": 5,
     "metadata": {},
     "output_type": "execute_result"
    }
   ],
   "source": [
    "## Escala la matriz de datos al intervalo [0, 1]\n",
    "from sklearn.preprocessing import MinMaxScaler\n",
    "scaler = MinMaxScaler()\n",
    "wbcd_n = scaler.fit_transform(wbcd_data)\n",
    "wbcd_n"
   ]
  },
  {
   "cell_type": "code",
   "execution_count": 6,
   "metadata": {
    "collapsed": true
   },
   "outputs": [],
   "source": [
    "#\n",
    "# Se crean los conjuntos de entrenamiento y prueba\n",
    "#\n",
    "wbcd_train        = wbcd_n[0:468]\n",
    "wbcd_train_labels = wbcd_diagnosis[0:468]\n",
    "wbcd_test         = wbcd_n[469:]\n",
    "wbcd_test_labels  = wbcd_diagnosis[469:]"
   ]
  },
  {
   "cell_type": "code",
   "execution_count": 7,
   "metadata": {},
   "outputs": [
    {
     "data": {
      "text/plain": [
       "KNeighborsClassifier(algorithm='auto', leaf_size=30, metric='minkowski',\n",
       "           metric_params=None, n_jobs=1, n_neighbors=21, p=2,\n",
       "           weights='uniform')"
      ]
     },
     "execution_count": 7,
     "metadata": {},
     "output_type": "execute_result"
    }
   ],
   "source": [
    "#\n",
    "# Se construye el clasificador\n",
    "#\n",
    "from sklearn.neighbors import KNeighborsClassifier\n",
    "knn = KNeighborsClassifier(n_neighbors=21)\n",
    "knn.fit(wbcd_train, wbcd_train_labels)"
   ]
  },
  {
   "cell_type": "code",
   "execution_count": 8,
   "metadata": {},
   "outputs": [
    {
     "data": {
      "text/plain": [
       "array(['\"B\"', '\"B\"', '\"B\"', '\"B\"', '\"B\"', '\"B\"', '\"B\"', '\"B\"', '\"B\"',\n",
       "       '\"B\"', '\"M\"', '\"B\"', '\"B\"', '\"B\"', '\"B\"', '\"B\"', '\"B\"', '\"B\"',\n",
       "       '\"M\"', '\"B\"', '\"B\"', '\"B\"', '\"B\"', '\"M\"', '\"B\"', '\"B\"', '\"B\"',\n",
       "       '\"B\"', '\"B\"', '\"M\"', '\"M\"', '\"B\"', '\"M\"', '\"B\"', '\"M\"', '\"B\"',\n",
       "       '\"B\"', '\"B\"', '\"B\"', '\"B\"', '\"M\"', '\"B\"', '\"B\"', '\"M\"', '\"B\"',\n",
       "       '\"B\"', '\"B\"', '\"M\"', '\"M\"', '\"B\"', '\"B\"', '\"B\"', '\"M\"', '\"B\"',\n",
       "       '\"B\"', '\"B\"', '\"B\"', '\"B\"', '\"B\"', '\"B\"', '\"B\"', '\"B\"', '\"B\"',\n",
       "       '\"B\"', '\"M\"', '\"B\"', '\"M\"', '\"M\"', '\"B\"', '\"B\"', '\"B\"', '\"B\"',\n",
       "       '\"B\"', '\"B\"', '\"B\"', '\"B\"', '\"B\"', '\"B\"', '\"B\"', '\"B\"', '\"B\"',\n",
       "       '\"B\"', '\"B\"', '\"B\"', '\"B\"', '\"B\"', '\"B\"', '\"B\"', '\"B\"', '\"B\"',\n",
       "       '\"B\"', '\"B\"', '\"B\"', '\"M\"', '\"M\"', '\"M\"', '\"M\"', '\"M\"', '\"M\"'],\n",
       "      dtype='<U3')"
      ]
     },
     "execution_count": 8,
     "metadata": {},
     "output_type": "execute_result"
    }
   ],
   "source": [
    "#\n",
    "# Predicción para el conjunto de prueba\n",
    "#\n",
    "wbcd_test_pred = knn.predict(wbcd_test)\n",
    "wbcd_test_pred"
   ]
  },
  {
   "cell_type": "code",
   "execution_count": 9,
   "metadata": {},
   "outputs": [
    {
     "data": {
      "text/plain": [
       "array([[21,  2],\n",
       "       [ 0, 76]])"
      ]
     },
     "execution_count": 9,
     "metadata": {},
     "output_type": "execute_result"
    }
   ],
   "source": [
    "#\n",
    "# Métricas de desempeño\n",
    "#\n",
    "from sklearn.metrics import confusion_matrix\n",
    "confusion_matrix(y_true = wbcd_test_labels, y_pred = wbcd_test_pred, labels=['\"M\"', '\"B\"'])"
   ]
  },
  {
   "cell_type": "code",
   "execution_count": 16,
   "metadata": {},
   "outputs": [
    {
     "data": {
      "text/plain": [
       "(76, 0, 2, 21)"
      ]
     },
     "execution_count": 16,
     "metadata": {},
     "output_type": "execute_result"
    }
   ],
   "source": [
    "tn, fp, fn, tp = confusion_matrix(y_true = wbcd_test_labels, y_pred=wbcd_test_pred).ravel()\n",
    "(tn, fp, fn, tp)"
   ]
  },
  {
   "cell_type": "code",
   "execution_count": 11,
   "metadata": {},
   "outputs": [
    {
     "data": {
      "text/plain": [
       "0.9797979797979798"
      ]
     },
     "execution_count": 11,
     "metadata": {},
     "output_type": "execute_result"
    }
   ],
   "source": [
    "#\n",
    "# Computa la tasa de éxito\n",
    "#\n",
    "from sklearn.metrics import accuracy_score\n",
    "accuracy_score(y_true = wbcd_test_labels, y_pred = wbcd_test_pred)"
   ]
  },
  {
   "cell_type": "code",
   "execution_count": 12,
   "metadata": {},
   "outputs": [
    {
     "data": {
      "text/plain": [
       "0.02020202020202022"
      ]
     },
     "execution_count": 12,
     "metadata": {},
     "output_type": "execute_result"
    }
   ],
   "source": [
    "## Tasa de error \n",
    "1 - accuracy_score(y_true = wbcd_test_labels, y_pred = wbcd_test_pred)"
   ]
  },
  {
   "cell_type": "code",
   "execution_count": 13,
   "metadata": {},
   "outputs": [
    {
     "name": "stdout",
     "output_type": "stream",
     "text": [
      "             precision    recall  f1-score   support\n",
      "\n",
      "        \"B\"       0.97      1.00      0.99        76\n",
      "        \"M\"       1.00      0.91      0.95        23\n",
      "\n",
      "avg / total       0.98      0.98      0.98        99\n",
      "\n"
     ]
    }
   ],
   "source": [
    "## Reporte de precisión del clasificador\n",
    "from sklearn.metrics import classification_report\n",
    "print(classification_report(y_true=wbcd_test_labels, y_pred=wbcd_test_pred))"
   ]
  },
  {
   "cell_type": "code",
   "execution_count": 14,
   "metadata": {
    "scrolled": true
   },
   "outputs": [
    {
     "data": {
      "text/plain": [
       "0.9797979797979798"
      ]
     },
     "execution_count": 14,
     "metadata": {},
     "output_type": "execute_result"
    }
   ],
   "source": [
    "## Similitud\n",
    "from sklearn.metrics import jaccard_similarity_score\n",
    "jaccard_similarity_score(y_true=wbcd_test_labels, y_pred=wbcd_test_pred)"
   ]
  },
  {
   "cell_type": "markdown",
   "metadata": {},
   "source": [
    "# Ejercicio.-- Recomendación de paquetes a instalar en R"
   ]
  },
  {
   "cell_type": "markdown",
   "metadata": {},
   "source": [
    "### Descripción del problema"
   ]
  },
  {
   "cell_type": "markdown",
   "metadata": {},
   "source": [
    "Se desea construir un sistema de recomendación para la instalación de paquetes del lenguaje R, tal que cuando un usuario seleccione un paquete a instalar, el sistema le recomiende otros paquetes que se han instalado con el paquete seleccionado. "
   ]
  },
  {
   "cell_type": "markdown",
   "metadata": {},
   "source": [
    "### Definición del problema en términos de los datos"
   ]
  },
  {
   "cell_type": "markdown",
   "metadata": {},
   "source": [
    "El archivo `installations.csv` tiene una muestra de 129324 registros de paquetes instalados por 65 usuarios. Las columnas son las siguientes:\n",
    "\n",
    "\n",
    "* Package: El nombre del paquete instalado.\n",
    "\n",
    "\n",
    "* User: Número entero que sirve como id del usuario.\n",
    "\n",
    "\n",
    "* Installed: 1=Si, 2=No. "
   ]
  },
  {
   "cell_type": "code",
   "execution_count": 1,
   "metadata": {},
   "outputs": [
    {
     "data": {
      "text/plain": [
       "['\"Package\",\"User\",\"Installed\"\\n',\n",
       " '\"abind\",1,1\\n',\n",
       " '\"AcceptanceSampling\",1,0\\n',\n",
       " '\"ACCLMA\",1,0\\n',\n",
       " '\"accuracy\",1,1\\n']"
      ]
     },
     "execution_count": 1,
     "metadata": {},
     "output_type": "execute_result"
    }
   ],
   "source": [
    "installations = open('data/installations.csv').readlines()\n",
    "installations[0:5]"
   ]
  },
  {
   "cell_type": "markdown",
   "metadata": {},
   "source": [
    "Se debe construir un sistema de recomendación."
   ]
  },
  {
   "cell_type": "markdown",
   "metadata": {},
   "source": [
    "---"
   ]
  },
  {
   "cell_type": "markdown",
   "metadata": {},
   "source": [
    "Diagnóstico del cáncer de mama (scikit-learn)\n",
    "===\n",
    "\n",
    "**Juan David Velásquez Henao**  \n",
    "jdvelasq@unal.edu.co   \n",
    "Universidad Nacional de Colombia, Sede Medellín  \n",
    "Facultad de Minas  \n",
    "Medellín, Colombia\n",
    "\n",
    "---\n",
    "\n",
    "Haga click [aquí](https://github.com/jdvelasq/IPython-for-predictive-analytics/blob/master/01-kNN-breast-cancer.ipynb) para acceder a la última versión online.\n",
    "\n",
    "Haga click [aquí](http://nbviewer.jupyter.org/github/jdvelasq/IPython-for-predictive-analytics/blob/master/01-kNN-breast-cancer.ipynb) para ver la última versión online en `nbviewer`. \n",
    "\n",
    "---\n",
    "[Licencia](https://github.com/jdvelasq/IPython-for-predictive-analytics/blob/master/LICENSE)  \n",
    "[Readme](https://github.com/jdvelasq/IPython-for-predictive-analytics/blob/master/readme.md)"
   ]
  }
 ],
 "metadata": {
  "kernel_info": {
   "name": "python3"
  },
  "kernelspec": {
   "display_name": "Python 3",
   "language": "python",
   "name": "python3"
  },
  "language_info": {
   "codemirror_mode": {
    "name": "ipython",
    "version": 3
   },
   "file_extension": ".py",
   "mimetype": "text/x-python",
   "name": "python",
   "nbconvert_exporter": "python",
   "pygments_lexer": "ipython3",
   "version": "3.6.3"
  },
  "nteract": {
   "version": "0.7.1"
  }
 },
 "nbformat": 4,
 "nbformat_minor": 2
}
