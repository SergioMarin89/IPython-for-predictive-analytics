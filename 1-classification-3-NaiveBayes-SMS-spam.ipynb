{
 "cells": [
  {
   "cell_type": "markdown",
   "metadata": {},
   "source": [
    "Filtrado de spam en mensajes de texto (SMS) usando sckkit-learn\n",
    "===\n",
    "\n",
    "**Juan David Velásquez Henao**  \n",
    "jdvelasq@unal.edu.co   \n",
    "Universidad Nacional de Colombia, Sede Medellín  \n",
    "Facultad de Minas  \n",
    "Medellín, Colombia\n",
    "\n",
    "---\n",
    "\n",
    "Haga click [aquí](https://github.com/jdvelasq/IPython-for-predictive-analytics/blob/master/03-NaiveBayes-SMS-spam.ipynb) para acceder a la última versión online.\n",
    "\n",
    "Haga click [aquí](http://nbviewer.jupyter.org/github/jdvelasq/IPython-for-predictive-analytics/blob/master/03-\n",
    "NaiveBayes-SMS-spam.ipynb) para ver la última versión online en `nbviewer`. \n",
    "\n",
    "---\n",
    "[Licencia](https://github.com/jdvelasq/IPython-for-predictive-analytics/blob/master/LICENSE)  \n",
    "[Readme](https://github.com/jdvelasq/IPython-for-predictive-analytics/blob/master/readme.md)"
   ]
  },
  {
   "cell_type": "code",
   "execution_count": 1,
   "metadata": {
    "scrolled": true
   },
   "outputs": [
    {
     "data": {
      "text/plain": [
       "[['ham',\n",
       "  'Go until jurong point, crazy.. Available only in bugis n great world la e buffet... Cine there got amore wat...'],\n",
       " ['ham', 'Ok lar... Joking wif u oni...'],\n",
       " ['spam',\n",
       "  \"Free entry in 2 a wkly comp to win FA Cup final tkts 21st May 2005. Text FA to 87121 to receive entry question(std txt rate)T&C's apply 08452810075over18's\"],\n",
       " ['ham', 'U dun say so early hor... U c already then say...'],\n",
       " ['ham', \"Nah I don't think he goes to usf, he lives around here though\"]]"
      ]
     },
     "execution_count": 1,
     "metadata": {},
     "output_type": "execute_result"
    }
   ],
   "source": [
    "## Lee el archivo. La función readlines() retorna una \n",
    "## una lista de strings donde cada string es una linea\n",
    "## del archivo original.\n",
    "sms_raw = open('data/sms_spam.csv').readlines()\n",
    "\n",
    "## Elimina las comillas dobles al principio y al final\n",
    "lines = []\n",
    "for line in sms_raw:\n",
    "    lines.append(line[1:-2]) \n",
    "sms_raw = lines\n",
    "\n",
    "## Convierte cada linea en una lista de strings, \n",
    "## partiendo la línea original por las comas. \n",
    "sms_raw = [x.split('\",\"') for x in sms_raw]\n",
    "\n",
    "## Elimina la primera fila que corresponde a los\n",
    "## encabezamientos\n",
    "sms_raw = sms_raw[1:]\n",
    "\n",
    "## Imprime los primeros cinco registros\n",
    "sms_raw[0:5]"
   ]
  },
  {
   "cell_type": "code",
   "execution_count": 2,
   "metadata": {
    "collapsed": true
   },
   "outputs": [],
   "source": [
    "## Separa el texto y el tipo de mensaje\n",
    "sms_raw_type = [x[0] for x in sms_raw]\n",
    "sms_raw_text = [x[1] for x in sms_raw]"
   ]
  },
  {
   "cell_type": "code",
   "execution_count": 3,
   "metadata": {
    "collapsed": true
   },
   "outputs": [],
   "source": [
    "## Se crea una función que mimifica \n",
    "## la función table() de R\n",
    "def table(x, y=None):\n",
    "    if y is None:\n",
    "        return {a:x.count(a) for a in set(x)}\n",
    "    return {a:{b:a.count(b) for b in a} for a in set(x)}"
   ]
  },
  {
   "cell_type": "code",
   "execution_count": 4,
   "metadata": {},
   "outputs": [
    {
     "data": {
      "text/plain": [
       "{'ham': 4827, 'spam': 747}"
      ]
     },
     "execution_count": 4,
     "metadata": {},
     "output_type": "execute_result"
    }
   ],
   "source": [
    "## Cuenta la cantidad de ham y spam\n",
    "table(sms_raw_type)"
   ]
  },
  {
   "cell_type": "code",
   "execution_count": 5,
   "metadata": {
    "collapsed": true
   },
   "outputs": [],
   "source": [
    "def prop_table(x):\n",
    "    L = len(x)\n",
    "    return {y:x.count(y)/L for y in set(x)}"
   ]
  },
  {
   "cell_type": "code",
   "execution_count": 6,
   "metadata": {
    "scrolled": false
   },
   "outputs": [
    {
     "data": {
      "text/plain": [
       "{'ham': 0.8659849300322928, 'spam': 0.1340150699677072}"
      ]
     },
     "execution_count": 6,
     "metadata": {},
     "output_type": "execute_result"
    }
   ],
   "source": [
    "## Se convierte el conteo en probabilidades.\n",
    "prop_table(sms_raw_type)"
   ]
  },
  {
   "cell_type": "code",
   "execution_count": 7,
   "metadata": {},
   "outputs": [
    {
     "data": {
      "text/plain": [
       "(5574, 1187)"
      ]
     },
     "execution_count": 7,
     "metadata": {},
     "output_type": "execute_result"
    }
   ],
   "source": [
    "## Matriz de términos del documento\n",
    "from sklearn.feature_extraction.text import CountVectorizer\n",
    "from sklearn.feature_extraction.text import TfidfVectorizer\n",
    "\n",
    "count_vect = CountVectorizer(analyzer='word',        # a nivel de palabra\n",
    "                             lowercase=True,         # convierte a minúsculas\n",
    "                             stop_words='english',   # stop_words en inglés\n",
    "                             min_df=7)               # ignora palabras con baja freq\n",
    "\n",
    "\n",
    "## Aplica la función al texto\n",
    "sms_dtm = count_vect.fit_transform(sms_raw_text)\n",
    "\n",
    "## Las filas contienen los mensajes\n",
    "## y las clomunas los términos\n",
    "sms_dtm.shape"
   ]
  },
  {
   "cell_type": "code",
   "execution_count": 8,
   "metadata": {
    "scrolled": true
   },
   "outputs": [
    {
     "data": {
      "text/plain": [
       "1187"
      ]
     },
     "execution_count": 8,
     "metadata": {},
     "output_type": "execute_result"
    }
   ],
   "source": [
    "## Palabras aprendidas de los mensajes de texto\n",
    "vocabulary = count_vect.get_feature_names()\n",
    "len(vocabulary)"
   ]
  },
  {
   "cell_type": "code",
   "execution_count": 9,
   "metadata": {},
   "outputs": [
    {
     "data": {
      "text/plain": [
       "['00',\n",
       " '000',\n",
       " '02',\n",
       " '03',\n",
       " '04',\n",
       " '06',\n",
       " '0800',\n",
       " '08000839402',\n",
       " '08000930705',\n",
       " '0870']"
      ]
     },
     "execution_count": 9,
     "metadata": {},
     "output_type": "execute_result"
    }
   ],
   "source": [
    "vocabulary[0:10]"
   ]
  },
  {
   "cell_type": "code",
   "execution_count": 10,
   "metadata": {
    "scrolled": false
   },
   "outputs": [
    {
     "data": {
      "text/plain": [
       "[['available',\n",
       "  'bugis',\n",
       "  'cine',\n",
       "  'crazy',\n",
       "  'got',\n",
       "  'great',\n",
       "  'la',\n",
       "  'point',\n",
       "  'wat',\n",
       "  'world'],\n",
       " ['lar', 'ok', 'wif'],\n",
       " ['apply',\n",
       "  'comp',\n",
       "  'cup',\n",
       "  'entry',\n",
       "  'final',\n",
       "  'free',\n",
       "  'question',\n",
       "  'rate',\n",
       "  'receive',\n",
       "  'std',\n",
       "  'text',\n",
       "  'txt',\n",
       "  'win',\n",
       "  'wkly'],\n",
       " ['dun', 'early', 'say']]"
      ]
     },
     "execution_count": 10,
     "metadata": {},
     "output_type": "execute_result"
    }
   ],
   "source": [
    "def dtm2words(dtm, vocabulary, index):\n",
    "    as_list = dtm[index,:].toarray().tolist()\n",
    "    docs = []\n",
    "    for i in index:\n",
    "        k = [vocabulary[iword] for iword, ifreq in enumerate(as_list[i]) if ifreq > 0]\n",
    "        docs += [k]\n",
    "    return docs\n",
    "    \n",
    "dtm2words(sms_dtm, vocabulary, [0, 1, 2, 3])"
   ]
  },
  {
   "cell_type": "code",
   "execution_count": 11,
   "metadata": {
    "collapsed": true
   },
   "outputs": [],
   "source": [
    "## Convierte la frecuencia a 0s y 1s\n",
    "_sms_dtm = sms_dtm.toarray().tolist()\n",
    "_sms_dtm = [[min(y, 1) for y in x] for x in _sms_dtm]\n",
    "\n",
    "#s = sms_dtm.data[sms_dtm.data > 1]\n",
    "#s\n",
    "#sms_dtm.shape"
   ]
  },
  {
   "cell_type": "code",
   "execution_count": 12,
   "metadata": {
    "collapsed": true
   },
   "outputs": [],
   "source": [
    "## Creación de los conjuntos de entrenamiento y prueba.\n",
    "sms_dtm_train    = _sms_dtm[0:4168 ]\n",
    "sms_dtm_test     = _sms_dtm[4169:]\n",
    "sms_train_labels = sms_raw_type[0:4168]\n",
    "sms_test_labels  = sms_raw_type[4169:]"
   ]
  },
  {
   "cell_type": "code",
   "execution_count": 13,
   "metadata": {},
   "outputs": [
    {
     "data": {
      "text/plain": [
       "{'ham': 0.8646833013435701, 'spam': 0.13531669865642995}"
      ]
     },
     "execution_count": 13,
     "metadata": {},
     "output_type": "execute_result"
    }
   ],
   "source": [
    "## Distribución del tipo de mensaje en el \n",
    "## conjunto de entrenamiento\n",
    "prop_table(sms_train_labels)"
   ]
  },
  {
   "cell_type": "code",
   "execution_count": 14,
   "metadata": {},
   "outputs": [
    {
     "data": {
      "text/plain": [
       "{'ham': 0.8697508896797153, 'spam': 0.1302491103202847}"
      ]
     },
     "execution_count": 14,
     "metadata": {},
     "output_type": "execute_result"
    }
   ],
   "source": [
    "## Distribución del tipo de mensaje en el \n",
    "## conjunto de prueba\n",
    "prop_table(sms_test_labels)"
   ]
  },
  {
   "cell_type": "code",
   "execution_count": 15,
   "metadata": {},
   "outputs": [
    {
     "data": {
      "text/plain": [
       "KNeighborsClassifier(algorithm='auto', leaf_size=30, metric='minkowski',\n",
       "           metric_params=None, n_jobs=1, n_neighbors=21, p=2,\n",
       "           weights='uniform')"
      ]
     },
     "execution_count": 15,
     "metadata": {},
     "output_type": "execute_result"
    }
   ],
   "source": [
    "## Entrena el modelo\n",
    "from sklearn.neighbors import KNeighborsClassifier\n",
    "kNN = KNeighborsClassifier(n_neighbors=21)\n",
    "kNN.fit(sms_dtm_train, sms_train_labels)\n",
    "kNN"
   ]
  },
  {
   "cell_type": "code",
   "execution_count": null,
   "metadata": {
    "collapsed": true
   },
   "outputs": [],
   "source": [
    "## Se pronostica para los datos de prueba.\n",
    "sms_test_pred = kNN.predict(sms_dtm_test)\n",
    "sms_test_pred"
   ]
  },
  {
   "cell_type": "code",
   "execution_count": null,
   "metadata": {
    "collapsed": true
   },
   "outputs": [],
   "source": [
    "## Métricas de desempeño\n",
    "##\n",
    "## Note que en R la respuesta fue:\n",
    "##\n",
    "##                  sms_test_pred\n",
    "##   sms_test_labels  ham spam\n",
    "##              ham  1200    9\n",
    "##             spam    20  161\n",
    "##\n",
    "## ¿puede explicar por qué?\n",
    "##\n",
    "from sklearn.metrics import confusion_matrix\n",
    "confusion_matrix(y_true = sms_test_labels, \n",
    "                 y_pred = sms_test_pred)"
   ]
  },
  {
   "cell_type": "markdown",
   "metadata": {},
   "source": [
    "# Ejercicio.-- Filtrado de spam en correos electrónicos"
   ]
  },
  {
   "cell_type": "markdown",
   "metadata": {},
   "source": [
    "### Definición del problema real"
   ]
  },
  {
   "cell_type": "markdown",
   "metadata": {},
   "source": [
    "Con el crecimiento exponencial del uso de internet para actividades económicas y de ocio, también ha crecido su uso como medio para envio de publicidad no deseada a través del correo electrónico. En este problema en particular, se desea tener una herramienta que permita la clasificación automática de correos con el fin de integrarla posteriormente a un servidor de correo electrónico.   "
   ]
  },
  {
   "cell_type": "markdown",
   "metadata": {},
   "source": [
    "### Definición del problema en términos de los datos"
   ]
  },
  {
   "cell_type": "markdown",
   "metadata": {},
   "source": [
    "Se desea construir un sistema que clasifique de forma automática los correos electrónicos como `ham` (genuinos) o `spam`. La carpeta `data/spam-filter` contiene ejemplos de correos electrónicos tanto validos como spam. Dentro de dicho directorio hay tres carpetas con los ejemplos:\n",
    "\n",
    "\n",
    "* spam: correos spam.\n",
    "\n",
    "\n",
    "* easy_ham: correos válidos fácilmente diferenciables de correos spam.\n",
    "\n",
    "\n",
    "* hard_spam: correos válidos más dificiles de diferenciar de correos spam.\n",
    "\n",
    "\n",
    "Estos tres directorios contienen los correos que deben ser usados para el entrenamiento del clasificador. Los nombres de los directorios terminados en `_2` deben usarse para probar el desempeño del clasificador."
   ]
  },
  {
   "cell_type": "markdown",
   "metadata": {},
   "source": [
    "### Requerimientos"
   ]
  },
  {
   "cell_type": "markdown",
   "metadata": {},
   "source": [
    "Construya clasificadores que usen las siguientes técnicas y comparelos:\n",
    "\n",
    "\n",
    "* kNN.\n",
    "\n",
    "\n",
    "* Naive Bayes."
   ]
  },
  {
   "cell_type": "markdown",
   "metadata": {},
   "source": [
    "---"
   ]
  },
  {
   "cell_type": "markdown",
   "metadata": {},
   "source": [
    "Filtrado de spam en mensajes de texto (SMS) usando sckkit-learn\n",
    "===\n",
    "\n",
    "**Juan David Velásquez Henao**  \n",
    "jdvelasq@unal.edu.co   \n",
    "Universidad Nacional de Colombia, Sede Medellín  \n",
    "Facultad de Minas  \n",
    "Medellín, Colombia\n",
    "\n",
    "---\n",
    "\n",
    "Haga click [aquí](https://github.com/jdvelasq/IPython-for-predictive-analytics/blob/master/03-NaiveBayes-SMS-spam.ipynb) para acceder a la última versión online.\n",
    "\n",
    "Haga click [aquí](http://nbviewer.jupyter.org/github/jdvelasq/IPython-for-predictive-analytics/blob/master/03-\n",
    "NaiveBayes-SMS-spam.ipynb) para ver la última versión online en `nbviewer`. \n",
    "\n",
    "---\n",
    "[Licencia](https://github.com/jdvelasq/IPython-for-predictive-analytics/blob/master/LICENSE)  \n",
    "[Readme](https://github.com/jdvelasq/IPython-for-predictive-analytics/blob/master/readme.md)"
   ]
  }
 ],
 "metadata": {
  "kernel_info": {
   "name": "python3"
  },
  "kernelspec": {
   "display_name": "Python 3",
   "language": "python",
   "name": "python3"
  },
  "language_info": {
   "codemirror_mode": {
    "name": "ipython",
    "version": 3
   },
   "file_extension": ".py",
   "mimetype": "text/x-python",
   "name": "python",
   "nbconvert_exporter": "python",
   "pygments_lexer": "ipython3",
   "version": "3.6.3"
  },
  "nteract": {
   "version": "0.7.1"
  }
 },
 "nbformat": 4,
 "nbformat_minor": 2
}
