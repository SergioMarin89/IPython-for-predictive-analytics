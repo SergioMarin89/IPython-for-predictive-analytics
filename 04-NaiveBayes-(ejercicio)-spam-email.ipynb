{
 "cells": [
  {
   "cell_type": "markdown",
   "metadata": {},
   "source": [
    "Filtrado de spam en correos electrónicos\n",
    "===\n",
    "\n",
    "**Juan David Velásquez Henao**  \n",
    "jdvelasq@unal.edu.co   \n",
    "Universidad Nacional de Colombia, Sede Medellín  \n",
    "Facultad de Minas  \n",
    "Medellín, Colombia\n",
    "\n",
    "---\n",
    "\n",
    "Haga click [aquí](https://github.com/jdvelasq/predictive-analytics/blob/master/05-R-(ejercicio)-spam-email.ipynb) para acceder a la última versión online.\n",
    "\n",
    "Haga click [aquí](http://nbviewer.jupyter.org/github/jdvelasq/predictive-analytics/blob/master/05-R-(ejercicio)-spam-email.ipynb) para ver la última versión online en `nbviewer`. \n",
    "\n",
    "---\n",
    "[Licencia](https://github.com/jdvelasq/predictive-analytics/blob/master/LICENSE)  \n",
    "[Readme](https://github.com/jdvelasq/predictive-analytics/blob/master/readme.md)"
   ]
  },
  {
   "cell_type": "markdown",
   "metadata": {},
   "source": [
    "# Definición del problema real"
   ]
  },
  {
   "cell_type": "markdown",
   "metadata": {},
   "source": [
    "Con el crecimiento exponencial del uso de internet para actividades económicas y de ocio, también ha crecido su uso como medio para envio de publicidad no deseada a través del correo electrónico. En este problema en particular, se desea tener una herramienta que permita la clasificación automática de correos con el fin de integrarla posteriormente a un servidor de correo electrónico.   "
   ]
  },
  {
   "cell_type": "markdown",
   "metadata": {
    "collapsed": true
   },
   "source": [
    "# Definición del problema en términos de los datos"
   ]
  },
  {
   "cell_type": "markdown",
   "metadata": {
    "collapsed": true
   },
   "source": [
    "Se desea construir un sistema que clasifique de forma automática los correos electrónicos como `ham` (genuinos) o `spam`. La carpeta `data/spam-filter` contiene ejemplos de correos electrónicos tanto validos como spam. Dentro de dicho directorio hay tres carpetas con los ejemplos:\n",
    "\n",
    "\n",
    "* spam: correos spam.\n",
    "\n",
    "\n",
    "* easy_ham: correos válidos fácilmente diferenciables de correos spam.\n",
    "\n",
    "\n",
    "* hard_spam: correos válidos más dificiles de diferenciar de correos spam.\n",
    "\n",
    "\n",
    "Estos tres directorios contienen los correos que deben ser usados para el entrenamiento del clasificador. Los nombres de los directorios terminados en `_2` deben usarse para probar el desempeño del clasificador."
   ]
  },
  {
   "cell_type": "markdown",
   "metadata": {},
   "source": [
    "# Requerimientos"
   ]
  },
  {
   "cell_type": "markdown",
   "metadata": {},
   "source": [
    "Construya clasificadores que usen las siguientes técnicas y comparelos:\n",
    "\n",
    "\n",
    "* kNN.\n",
    "\n",
    "\n",
    "* Naive Bayes."
   ]
  },
  {
   "cell_type": "markdown",
   "metadata": {},
   "source": [
    "---"
   ]
  },
  {
   "cell_type": "markdown",
   "metadata": {},
   "source": [
    "Filtrado de spam en correos electrónicos\n",
    "===\n",
    "\n",
    "**Juan David Velásquez Henao**  \n",
    "jdvelasq@unal.edu.co   \n",
    "Universidad Nacional de Colombia, Sede Medellín  \n",
    "Facultad de Minas  \n",
    "Medellín, Colombia\n",
    "\n",
    "---\n",
    "\n",
    "Haga click [aquí](https://github.com/jdvelasq/predictive-analytics/blob/master/05-R-(ejercicio)-spam-email.ipynb) para acceder a la última versión online.\n",
    "\n",
    "Haga click [aquí](http://nbviewer.jupyter.org/github/jdvelasq/predictive-analytics/blob/master/05-R-(ejercicio)-spam-email.ipynb) para ver la última versión online en `nbviewer`. \n",
    "\n",
    "---\n",
    "[Licencia](https://github.com/jdvelasq/predictive-analytics/blob/master/LICENSE)  \n",
    "[Readme](https://github.com/jdvelasq/predictive-analytics/blob/master/readme.md)"
   ]
  }
 ],
 "metadata": {
  "kernel_info": {
   "name": "python3"
  },
  "kernelspec": {
   "display_name": "R",
   "language": "R",
   "name": "ir"
  },
  "language_info": {
   "codemirror_mode": "r",
   "file_extension": ".r",
   "mimetype": "text/x-r-source",
   "name": "R",
   "pygments_lexer": "r",
   "version": "3.4.3"
  },
  "nteract": {
   "version": "0.7.1"
  }
 },
 "nbformat": 4,
 "nbformat_minor": 2
}
